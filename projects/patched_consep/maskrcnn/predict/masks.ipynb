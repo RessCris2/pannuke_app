{
 "cells": [
  {
   "cell_type": "code",
   "execution_count": 1,
   "id": "65d625a7-0996-425b-bc69-6aeb175a6890",
   "metadata": {},
   "outputs": [],
   "source": [
    "import mmcv\n",
    "import numpy as np\n",
    "from pycocotools import mask as mask_utils"
   ]
  },
  {
   "cell_type": "code",
   "execution_count": 3,
   "id": "dcd34937-2683-49ee-adff-1fe469c94394",
   "metadata": {},
   "outputs": [
    {
     "ename": "error",
     "evalue": "OpenCV(4.7.0) /io/opencv/modules/highgui/src/window.cpp:1272: error: (-2:Unspecified error) The function is not implemented. Rebuild the library with Windows, GTK+ 2.x or Cocoa support. If you are on Ubuntu or Debian, install libgtk2.0-dev and pkg-config, then re-run cmake or configure script in function 'cvShowImage'\n",
     "output_type": "error",
     "traceback": [
      "\u001b[0;31m---------------------------------------------------------------------------\u001b[0m",
      "\u001b[0;31merror\u001b[0m                                     Traceback (most recent call last)",
      "\u001b[0;32m/tmp/ipykernel_8356/694248758.py\u001b[0m in \u001b[0;36m<module>\u001b[0;34m\u001b[0m\n\u001b[1;32m      9\u001b[0m \u001b[0;34m\u001b[0m\u001b[0m\n\u001b[1;32m     10\u001b[0m \u001b[0;31m# 显示原始 mask 和解码后的 mask\u001b[0m\u001b[0;34m\u001b[0m\u001b[0;34m\u001b[0m\u001b[0;34m\u001b[0m\u001b[0m\n\u001b[0;32m---> 11\u001b[0;31m \u001b[0mmmcv\u001b[0m\u001b[0;34m.\u001b[0m\u001b[0mimshow_bboxes\u001b[0m\u001b[0;34m(\u001b[0m\u001b[0mmask\u001b[0m\u001b[0;34m,\u001b[0m \u001b[0;34m[\u001b[0m\u001b[0mmask\u001b[0m\u001b[0;34m]\u001b[0m\u001b[0;34m,\u001b[0m \u001b[0mcolors\u001b[0m\u001b[0;34m=\u001b[0m\u001b[0;34m[\u001b[0m\u001b[0;34m(\u001b[0m\u001b[0;36m0\u001b[0m\u001b[0;34m,\u001b[0m \u001b[0;36m255\u001b[0m\u001b[0;34m,\u001b[0m \u001b[0;36m0\u001b[0m\u001b[0;34m)\u001b[0m\u001b[0;34m]\u001b[0m\u001b[0;34m,\u001b[0m \u001b[0mthickness\u001b[0m\u001b[0;34m=\u001b[0m\u001b[0;36m2\u001b[0m\u001b[0;34m,\u001b[0m \u001b[0mshow\u001b[0m\u001b[0;34m=\u001b[0m\u001b[0;32mTrue\u001b[0m\u001b[0;34m)\u001b[0m\u001b[0;34m\u001b[0m\u001b[0;34m\u001b[0m\u001b[0m\n\u001b[0m\u001b[1;32m     12\u001b[0m \u001b[0;31m# mmcv.imshow_bboxes('Decoded Mask', [decoded_mask], colors=[(0, 255, 0)], thickness=2, show=True)\u001b[0m\u001b[0;34m\u001b[0m\u001b[0;34m\u001b[0m\u001b[0;34m\u001b[0m\u001b[0m\n",
      "\u001b[0;32m~/miniconda3/lib/python3.8/site-packages/mmcv/visualization/image.py\u001b[0m in \u001b[0;36mimshow_bboxes\u001b[0;34m(img, bboxes, colors, top_k, thickness, show, win_name, wait_time, out_file)\u001b[0m\n\u001b[1;32m     83\u001b[0m \u001b[0;34m\u001b[0m\u001b[0m\n\u001b[1;32m     84\u001b[0m     \u001b[0;32mif\u001b[0m \u001b[0mshow\u001b[0m\u001b[0;34m:\u001b[0m\u001b[0;34m\u001b[0m\u001b[0;34m\u001b[0m\u001b[0m\n\u001b[0;32m---> 85\u001b[0;31m         \u001b[0mimshow\u001b[0m\u001b[0;34m(\u001b[0m\u001b[0mimg\u001b[0m\u001b[0;34m,\u001b[0m \u001b[0mwin_name\u001b[0m\u001b[0;34m,\u001b[0m \u001b[0mwait_time\u001b[0m\u001b[0;34m)\u001b[0m\u001b[0;34m\u001b[0m\u001b[0;34m\u001b[0m\u001b[0m\n\u001b[0m\u001b[1;32m     86\u001b[0m     \u001b[0;32mif\u001b[0m \u001b[0mout_file\u001b[0m \u001b[0;32mis\u001b[0m \u001b[0;32mnot\u001b[0m \u001b[0;32mNone\u001b[0m\u001b[0;34m:\u001b[0m\u001b[0;34m\u001b[0m\u001b[0;34m\u001b[0m\u001b[0m\n\u001b[1;32m     87\u001b[0m         \u001b[0mimwrite\u001b[0m\u001b[0;34m(\u001b[0m\u001b[0mimg\u001b[0m\u001b[0;34m,\u001b[0m \u001b[0mout_file\u001b[0m\u001b[0;34m)\u001b[0m\u001b[0;34m\u001b[0m\u001b[0;34m\u001b[0m\u001b[0m\n",
      "\u001b[0;32m~/miniconda3/lib/python3.8/site-packages/mmcv/visualization/image.py\u001b[0m in \u001b[0;36mimshow\u001b[0;34m(img, win_name, wait_time)\u001b[0m\n\u001b[1;32m     22\u001b[0m         \u001b[0mwait_time\u001b[0m \u001b[0;34m(\u001b[0m\u001b[0mint\u001b[0m\u001b[0;34m)\u001b[0m\u001b[0;34m:\u001b[0m \u001b[0mValue\u001b[0m \u001b[0mof\u001b[0m \u001b[0mwaitKey\u001b[0m \u001b[0mparam\u001b[0m\u001b[0;34m.\u001b[0m\u001b[0;34m\u001b[0m\u001b[0;34m\u001b[0m\u001b[0m\n\u001b[1;32m     23\u001b[0m     \"\"\"\n\u001b[0;32m---> 24\u001b[0;31m     \u001b[0mcv2\u001b[0m\u001b[0;34m.\u001b[0m\u001b[0mimshow\u001b[0m\u001b[0;34m(\u001b[0m\u001b[0mwin_name\u001b[0m\u001b[0;34m,\u001b[0m \u001b[0mimread\u001b[0m\u001b[0;34m(\u001b[0m\u001b[0mimg\u001b[0m\u001b[0;34m)\u001b[0m\u001b[0;34m)\u001b[0m\u001b[0;34m\u001b[0m\u001b[0;34m\u001b[0m\u001b[0m\n\u001b[0m\u001b[1;32m     25\u001b[0m     \u001b[0;32mif\u001b[0m \u001b[0mwait_time\u001b[0m \u001b[0;34m==\u001b[0m \u001b[0;36m0\u001b[0m\u001b[0;34m:\u001b[0m  \u001b[0;31m# prevent from hanging if windows was closed\u001b[0m\u001b[0;34m\u001b[0m\u001b[0;34m\u001b[0m\u001b[0m\n\u001b[1;32m     26\u001b[0m         \u001b[0;32mwhile\u001b[0m \u001b[0;32mTrue\u001b[0m\u001b[0;34m:\u001b[0m\u001b[0;34m\u001b[0m\u001b[0;34m\u001b[0m\u001b[0m\n",
      "\u001b[0;31merror\u001b[0m: OpenCV(4.7.0) /io/opencv/modules/highgui/src/window.cpp:1272: error: (-2:Unspecified error) The function is not implemented. Rebuild the library with Windows, GTK+ 2.x or Cocoa support. If you are on Ubuntu or Debian, install libgtk2.0-dev and pkg-config, then re-run cmake or configure script in function 'cvShowImage'\n"
     ]
    }
   ],
   "source": [
    "# 假设你有一个 mmdetection 输出的 mask\n",
    "mask = np.random.randint(2, size=(100, 100), dtype=np.uint8)\n",
    "\n",
    "# 将二进制掩码转换为 RLE 编码\n",
    "rle_encoded = mask_utils.encode(np.array(mask[:, :, None], order='F'))[0]\n",
    "\n",
    "# 将 RLE 编码解码为二进制掩码\n",
    "decoded_mask = mask_utils.decode([rle_encoded])\n",
    "\n",
    "# 显示原始 mask 和解码后的 mask\n",
    "mmcv.imshow_bboxes(mask, [mask], colors=[(0, 255, 0)], thickness=2, show=True)\n",
    "# mmcv.imshow_bboxes('Decoded Mask', [decoded_mask], colors=[(0, 255, 0)], thickness=2, show=True)"
   ]
  },
  {
   "cell_type": "code",
   "execution_count": 5,
   "id": "45e355cf-88ee-4648-b2d1-0d99e4e85f52",
   "metadata": {},
   "outputs": [],
   "source": [
    "from shapely.geometry import Polygon\n",
    "from pycocotools import mask as mask_utils"
   ]
  },
  {
   "cell_type": "code",
   "execution_count": 6,
   "id": "2db2317b-0475-443a-b388-96d9b333d8f0",
   "metadata": {},
   "outputs": [],
   "source": [
    "# 示例使用\n",
    "polygon = [[0, 0], [100, 0], [100, 100], [0, 100]]  # 一个简单的正方形"
   ]
  },
  {
   "cell_type": "code",
   "execution_count": 7,
   "id": "1eb8e4f6-2fd3-42ac-ba0b-aa3ce44b06bd",
   "metadata": {},
   "outputs": [],
   "source": [
    " poly = Polygon(polygon)"
   ]
  },
  {
   "cell_type": "code",
   "execution_count": 8,
   "id": "9fd5b388-42af-4e4a-85db-2c5772828e7d",
   "metadata": {},
   "outputs": [],
   "source": [
    " # 获取多边形的轮廓\n",
    "exterior = list(poly.exterior.coords)\n",
    "\n",
    "# 创建 COCO 格式的分割掩码\n",
    "segmentation = [int(coord) for xy in exterior for coord in xy]"
   ]
  },
  {
   "cell_type": "code",
   "execution_count": 18,
   "id": "ae4803a9-82fe-4f98-83fb-1d7f58bf4f39",
   "metadata": {},
   "outputs": [
    {
     "data": {
      "text/plain": [
       "[0, 0, 100, 0, 100, 100, 0, 100, 0, 0]"
      ]
     },
     "execution_count": 18,
     "metadata": {},
     "output_type": "execute_result"
    }
   ],
   "source": [
    "segmentation"
   ]
  },
  {
   "cell_type": "code",
   "execution_count": 16,
   "id": "f1321634-e8ee-44b7-a367-f5e3d5169620",
   "metadata": {},
   "outputs": [],
   "source": [
    "import numpy as np"
   ]
  },
  {
   "cell_type": "code",
   "execution_count": 17,
   "id": "f68987ee-8f6a-4ce2-9837-37af0afc6a23",
   "metadata": {},
   "outputs": [
    {
     "ename": "TypeError",
     "evalue": "Argument 'bb' has incorrect type (expected numpy.ndarray, got list)",
     "output_type": "error",
     "traceback": [
      "\u001b[0;31m---------------------------------------------------------------------------\u001b[0m",
      "\u001b[0;31mTypeError\u001b[0m                                 Traceback (most recent call last)",
      "\u001b[0;32m/tmp/ipykernel_8356/2103026883.py\u001b[0m in \u001b[0;36m<module>\u001b[0;34m\u001b[0m\n\u001b[0;32m----> 1\u001b[0;31m \u001b[0mrle_encoded\u001b[0m \u001b[0;34m=\u001b[0m \u001b[0mmask_utils\u001b[0m\u001b[0;34m.\u001b[0m\u001b[0mfrPyObjects\u001b[0m\u001b[0;34m(\u001b[0m\u001b[0;34m[\u001b[0m\u001b[0mnp\u001b[0m\u001b[0;34m.\u001b[0m\u001b[0marray\u001b[0m\u001b[0;34m(\u001b[0m\u001b[0mpolygon\u001b[0m\u001b[0;34m)\u001b[0m\u001b[0;34m]\u001b[0m\u001b[0;34m,\u001b[0m \u001b[0mimage_height\u001b[0m\u001b[0;34m,\u001b[0m \u001b[0mimage_width\u001b[0m\u001b[0;34m)\u001b[0m\u001b[0;34m\u001b[0m\u001b[0;34m\u001b[0m\u001b[0m\n\u001b[0m",
      "\u001b[0;32mpycocotools/_mask.pyx\u001b[0m in \u001b[0;36mpycocotools._mask.frPyObjects\u001b[0;34m()\u001b[0m\n",
      "\u001b[0;31mTypeError\u001b[0m: Argument 'bb' has incorrect type (expected numpy.ndarray, got list)"
     ]
    }
   ],
   "source": [
    "rle_encoded = mask_utils.frPyObjects([np.array(polygon)], image_height, image_width)"
   ]
  },
  {
   "cell_type": "code",
   "execution_count": null,
   "id": "6b040c23-0e2b-424c-8ef3-771d341a61a7",
   "metadata": {},
   "outputs": [],
   "source": []
  },
  {
   "cell_type": "code",
   "execution_count": 12,
   "id": "07193293-8561-4a98-9ecf-e4c75f6e958a",
   "metadata": {},
   "outputs": [
    {
     "data": {
      "text/plain": [
       "[{'size': [100, 100], 'counts': b'0`h9'}]"
      ]
     },
     "execution_count": 12,
     "metadata": {},
     "output_type": "execute_result"
    }
   ],
   "source": [
    "rle_encoded"
   ]
  },
  {
   "cell_type": "code",
   "execution_count": 48,
   "id": "98113cf0-8b3e-4989-bb58-966bd8312908",
   "metadata": {},
   "outputs": [
    {
     "name": "stdout",
     "output_type": "stream",
     "text": [
      "[{'size': [100, 100], 'counts': b'bo0X1l100000000000000000000000000000000000000000000000000000000000000000000000000000nk4'}]\n"
     ]
    }
   ],
   "source": [
    "def polygon_to_rle(polygon, image_height, image_width):\n",
    "    # 创建一个 Shapely 多边形对象\n",
    "    poly = Polygon(polygon)\n",
    "    \n",
    "    # 获取多边形的轮廓\n",
    "    exterior = list(poly.exterior.coords)\n",
    "    \n",
    "    # 创建 COCO 格式的分割掩码\n",
    "    segmentation = [int(coord) for xy in exterior for coord in xy]\n",
    "    \n",
    "    # 将分割掩码编码为 RLE\n",
    "    rle_encoded = mask_utils.frPyObjects([segmentation], image_height, image_width)\n",
    "    \n",
    "    return rle_encoded\n",
    "\n",
    "# 示例使用\n",
    "polygon = [[10, 10], [50, 10], [50, 50], [10, 50]]  # 一个简单的正方形\n",
    "image_height, image_width = 100, 100  # 图像的高度和宽度，根据实际情况设置\n",
    "\n",
    "rle_encoded = polygon_to_rle(polygon, image_height, image_width)\n",
    "print(rle_encoded)\n",
    "binary_mask = mask_utils.decode(rle_encoded)\n",
    "plt.imshow(binary_mask)"
   ]
  },
  {
   "cell_type": "code",
   "execution_count": 49,
   "id": "2509e035-f0fa-41b2-9659-79e0d951c037",
   "metadata": {},
   "outputs": [],
   "source": [
    "\n"
   ]
  },
  {
   "cell_type": "code",
   "execution_count": null,
   "id": "421b1db4-6ee1-4e95-96c1-4e817aff2540",
   "metadata": {},
   "outputs": [],
   "source": []
  },
  {
   "cell_type": "code",
   "execution_count": null,
   "id": "45ec0254-7829-4351-865c-798202494cc1",
   "metadata": {},
   "outputs": [],
   "source": []
  },
  {
   "cell_type": "code",
   "execution_count": null,
   "id": "fb530880-888f-42af-a5a0-5c325be9112b",
   "metadata": {},
   "outputs": [],
   "source": []
  },
  {
   "cell_type": "code",
   "execution_count": 19,
   "id": "f21a6152-c328-4956-a34d-12db8b3a2b71",
   "metadata": {},
   "outputs": [
    {
     "data": {
      "image/png": "[encoded data removed]",
      "text/plain": [
       "<PIL.Image.Image image mode=1 size=100x100 at 0x7F87595F8370>"
      ]
     },
     "metadata": {},
     "output_type": "display_data"
    }
   ],
   "source": [
    "from PIL import Image, ImageDraw\n",
    "from shapely.geometry import Polygon\n",
    "\n",
    "def polygon_to_binary_mask(polygon, image_size):\n",
    "    # 创建一个空白图像\n",
    "    image = Image.new(\"L\", image_size, 0)\n",
    "    draw = ImageDraw.Draw(image)\n",
    "\n",
    "    # 创建一个 Shapely 多边形对象并绘制到图像上\n",
    "    poly = Polygon(polygon)\n",
    "    exterior = list(poly.exterior.coords)\n",
    "    draw.polygon(exterior, outline=1, fill=1)\n",
    "\n",
    "    # 将图像转换为二进制掩码\n",
    "    binary_mask = image.convert(\"1\")\n",
    "\n",
    "    return binary_mask\n",
    "\n",
    "# 示例使用\n",
    "polygon = [[10, 10], [50, 10], [50, 50], [10, 50]]  # 一个简单的正方形\n",
    "image_size = (100, 100)  # 图像的大小，根据实际情况设置\n",
    "\n",
    "binary_mask = polygon_to_binary_mask(polygon, image_size)\n",
    "# binary_mask.show()\n"
   ]
  },
  {
   "cell_type": "code",
   "execution_count": 22,
   "id": "49d9c49e-03c5-403f-95ec-0b628b6f64b9",
   "metadata": {},
   "outputs": [
    {
     "data": {
      "image/png": "[encoded data removed]",
      "text/plain": [
       "<PIL.Image.Image image mode=1 size=100x100 at 0x7F87595F8370>"
      ]
     },
     "execution_count": 22,
     "metadata": {},
     "output_type": "execute_result"
    }
   ],
   "source": []
  },
  {
   "cell_type": "code",
   "execution_count": 23,
   "id": "abf64880-3804-4b7d-868c-12ef468de4a3",
   "metadata": {},
   "outputs": [],
   "source": [
    "binary_mask_array = np.array(binary_mask)"
   ]
  },
  {
   "cell_type": "code",
   "execution_count": 25,
   "id": "d0070ab0-e922-4344-b9e2-ddbac8da0946",
   "metadata": {},
   "outputs": [
    {
     "data": {
      "text/plain": [
       "<matplotlib.image.AxesImage at 0x7f8754553ee0>"
      ]
     },
     "execution_count": 25,
     "metadata": {},
     "output_type": "execute_result"
    },
    {
     "data": {
      "image/png": "[encoded data removed]",
      "text/plain": [
       "<Figure size 432x288 with 1 Axes>"
      ]
     },
     "metadata": {
      "needs_background": "light"
     },
     "output_type": "display_data"
    }
   ],
   "source": [
    "import matplotlib.pyplot as plt\n",
    "plt.imshow(binary_mask_array)"
   ]
  },
  {
   "cell_type": "code",
   "execution_count": 26,
   "id": "33775823-a7fb-4dfe-b4de-5f3bb663dbb3",
   "metadata": {},
   "outputs": [
    {
     "data": {
      "text/plain": [
       "0"
      ]
     },
     "execution_count": 26,
     "metadata": {},
     "output_type": "execute_result"
    }
   ],
   "source": [
    "binary_mask_array.sum()"
   ]
  },
  {
   "cell_type": "code",
   "execution_count": 27,
   "id": "257af0ea-1d51-441d-b4aa-a017d714a315",
   "metadata": {},
   "outputs": [],
   "source": [
    "image = Image.new(\"L\", image_size, 0)\n",
    "draw = ImageDraw.Draw(image)\n",
    "\n",
    "# 创建一个 Shapely 多边形对象并绘制到图像上\n",
    "poly = Polygon(polygon)\n",
    "exterior = list(poly.exterior.coords)\n",
    "draw.polygon(exterior, outline=1, fill=1)"
   ]
  },
  {
   "cell_type": "code",
   "execution_count": 31,
   "id": "372ecadf-7ebd-45f9-b5a5-50e2a615b8a7",
   "metadata": {},
   "outputs": [
    {
     "data": {
      "image/png": "[encoded data removed]",
      "text/plain": [
       "<PIL.Image.Image image mode=L size=100x100 at 0x7F8758461A60>"
      ]
     },
     "execution_count": 31,
     "metadata": {},
     "output_type": "execute_result"
    }
   ],
   "source": [
    "image"
   ]
  },
  {
   "cell_type": "code",
   "execution_count": 41,
   "id": "efaaf0f7-378c-4a33-a92e-b612a7225214",
   "metadata": {},
   "outputs": [],
   "source": [
    "import cv2\n",
    "def poly2mask(points, width, height):\n",
    "    mask = np.zeros((width, height), dtype=np.int32)\n",
    "    obj = np.array([points], dtype=np.int32)\n",
    "    cv2.fillPoly(mask, obj, 1)\n",
    "    return mask\n",
    "\n",
    "polygon= [[10, 10], [50, 10], [50, 50], [10, 50]]\n",
    "\n",
    "mask = poly2mask(polygon, 100, 100)\n",
    "\n",
    "plt.imshow(mask)"
   ]
  },
  {
   "cell_type": "code",
   "execution_count": null,
   "id": "05c21811-0a0e-4e40-8cbd-d5ab02b9fcce",
   "metadata": {},
   "outputs": [],
   "source": []
  }
 ],
 "metadata": {
  "kernelspec": {
   "display_name": "Python 3 (ipykernel)",
   "language": "python",
   "name": "python3"
  },
  "language_info": {
   "codemirror_mode": {
    "name": "ipython",
    "version": 3
   },
   "file_extension": ".py",
   "mimetype": "text/x-python",
   "name": "python",
   "nbconvert_exporter": "python",
   "pygments_lexer": "ipython3",
   "version": "3.8.10"
  }
 },
 "nbformat": 4,
 "nbformat_minor": 5
}
