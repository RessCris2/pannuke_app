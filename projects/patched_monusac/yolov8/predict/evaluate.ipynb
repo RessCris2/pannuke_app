{
 "cells": [
  {
   "cell_type": "code",
   "execution_count": 1,
   "id": "f2e8aa8d-f005-4905-ba8e-244a03554c5d",
   "metadata": {},
   "outputs": [],
   "source": [
    "import sys\n",
    "\n",
    "import numpy as np\n",
    "from ultralytics import YOLO\n",
    "\n",
    "sys.path.append(\"/root/autodl-tmp/pannuke_app\")\n",
    "from src.evaluation.stats_utils_v2 import eveluate_one_pic_inst\n",
    "\n",
    "best_path = \"/root/autodl-tmp/pannuke_app/train/ultralytics/runs/segment/train10/weights/best.pt\"\n",
    "\n",
    "\n",
    "model = YOLO(best_path)  # load a custom model"
   ]
  },
  {
   "cell_type": "code",
   "execution_count": 3,
   "id": "fe849c46-1ab5-434f-9183-119ec3006130",
   "metadata": {},
   "outputs": [],
   "source": [
    "pred_dir = \"/root/autodl-tmp/pannuke_app/datasets/processed/MoNuSAC/test/imgs\"\n",
    "results = model.predict(pred_dir, stream=True)"
   ]
  },
  {
   "cell_type": "code",
   "execution_count": 4,
   "id": "b8540051-2c82-4f61-908a-8bde564f10be",
   "metadata": {},
   "outputs": [
    {
     "name": "stdout",
     "output_type": "stream",
     "text": [
      "\n",
      "Ultralytics YOLOv8.0.221 🚀 Python-3.8.10 torch-1.9.0+cu111 CUDA:0 (NVIDIA RTX A5000, 24256MiB)\n",
      "YOLOv8n-seg summary (fused): 195 layers, 3258844 parameters, 0 gradients, 12.0 GFLOPs\n",
      "ultralytics.engine.results.Results object with attributes:\n",
      "\n",
      "boxes: ultralytics.engine.results.Boxes object\n",
      "keypoints: None\n",
      "masks: ultralytics.engine.results.Masks object\n",
      "names: {0: 'Epithelial', 1: 'Lymphocyte', 2: 'Neutrophil', 3: 'Macrophage'}\n",
      "orig_img: array([[[234, 225, 223],\n",
      "        [250, 167, 192],\n",
      "        [202, 121, 149],\n",
      "        ...,\n",
      "        [186,  72,  97],\n",
      "        [172,  67,  93],\n",
      "        [166,  72,  97]],\n",
      "\n",
      "       [[234, 222, 223],\n",
      "        [251, 176, 199],\n",
      "        [216, 138, 165],\n",
      "        ...,\n",
      "        [185,  74,  99],\n",
      "        [176,  70,  97],\n",
      "        [174,  76, 103]],\n",
      "\n",
      "       [[235, 221, 224],\n",
      "        [253, 192, 211],\n",
      "        [235, 165, 189],\n",
      "        ...,\n",
      "        [183,  76, 100],\n",
      "        [182,  73, 102],\n",
      "        [188,  81, 112]],\n",
      "\n",
      "       ...,\n",
      "\n",
      "       [[213, 143, 176],\n",
      "        [209, 142, 174],\n",
      "        [205, 139, 172],\n",
      "        ...,\n",
      "        [170, 100, 151],\n",
      "        [162,  94, 148],\n",
      "        [158,  99, 152]],\n",
      "\n",
      "       [[207, 139, 172],\n",
      "        [207, 136, 170],\n",
      "        [210, 133, 168],\n",
      "        ...,\n",
      "        [166,  97, 149],\n",
      "        [158,  95, 146],\n",
      "        [158, 105, 151]],\n",
      "\n",
      "       [[200, 130, 161],\n",
      "        [203, 130, 162],\n",
      "        [209, 133, 166],\n",
      "        ...,\n",
      "        [173,  99, 156],\n",
      "        [168, 101, 159],\n",
      "        [168, 112, 164]]], dtype=uint8)\n",
      "orig_shape: (142, 115)\n",
      "path: '/root/autodl-tmp/pannuke_app/datasets/processed/MoNuSAC/test/imgs/TCGA-2Z-A9JG-01Z-00-DX1_1.png'\n",
      "probs: None\n",
      "save_dir: None\n",
      "speed: {'preprocess': 2.4805068969726562, 'inference': 13.859272003173828, 'postprocess': 2.1996498107910156}\n"
     ]
    },
    {
     "name": "stderr",
     "output_type": "stream",
     "text": [
      "/root/miniconda3/lib/python3.8/site-packages/torch/nn/functional.py:718: UserWarning: Named tensors and all their associated APIs are an experimental feature and subject to change. Please do not use them for anything important until they are released as stable. (Triggered internally at  /pytorch/c10/core/TensorImpl.h:1156.)\n",
      "  return torch.max_pool2d(input, kernel_size, stride, padding, dilation, ceil_mode)\n"
     ]
    }
   ],
   "source": [
    "for result in results:\n",
    "    print(result)\n",
    "    break"
   ]
  },
  {
   "cell_type": "code",
   "execution_count": 7,
   "id": "3e297089-8a63-4131-b7ef-18de03c2043b",
   "metadata": {},
   "outputs": [
    {
     "data": {
      "text/plain": [
       "torch.Size([9, 640, 544])"
      ]
     },
     "execution_count": 7,
     "metadata": {},
     "output_type": "execute_result"
    }
   ],
   "source": [
    "result.masks.shape"
   ]
  },
  {
   "cell_type": "code",
   "execution_count": null,
   "id": "073739fa-91fd-446f-9de4-72f7a4d7b9e3",
   "metadata": {},
   "outputs": [],
   "source": []
  }
 ],
 "metadata": {
  "kernelspec": {
   "display_name": "Python 3 (ipykernel)",
   "language": "python",
   "name": "python3"
  },
  "language_info": {
   "codemirror_mode": {
    "name": "ipython",
    "version": 3
   },
   "file_extension": ".py",
   "mimetype": "text/x-python",
   "name": "python",
   "nbconvert_exporter": "python",
   "pygments_lexer": "ipython3",
   "version": "3.8.10"
  }
 },
 "nbformat": 4,
 "nbformat_minor": 5
}
