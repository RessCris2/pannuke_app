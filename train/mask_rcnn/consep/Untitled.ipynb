{
 "cells": [
  {
   "cell_type": "code",
   "execution_count": 1,
   "id": "2bfbf512-7c38-4d6d-897c-9a5eddf5dd3e",
   "metadata": {},
   "outputs": [],
   "source": [
    "import numpy as np\n",
    "import mmcv"
   ]
  },
  {
   "cell_type": "code",
   "execution_count": 21,
   "id": "212f253e-9e5e-4a3d-8617-0fa947031f55",
   "metadata": {},
   "outputs": [
    {
     "data": {
      "text/plain": [
       "True"
      ]
     },
     "execution_count": 21,
     "metadata": {},
     "output_type": "execute_result"
    }
   ],
   "source": [
    "mmcv.imwrite(np.load('tt.npy'), 'tt.png')"
   ]
  },
  {
   "cell_type": "code",
   "execution_count": null,
   "id": "58981f08-f807-49a0-9973-ae232f6f9e78",
   "metadata": {},
   "outputs": [],
   "source": [
    "# !python tools/analysis_tools/analyze_logs.py plot_curve log.json --keys loss_cls --legend loss_cls\n",
    "!python tools/analysis_tools/analyze_logs.py plot 20231106_010905.log\\\n",
    "--keys loss_cls --legend loss_cls"
   ]
  },
  {
   "cell_type": "code",
   "execution_count": 8,
   "id": "1ad0384b-177a-4151-b078-60a126305e38",
   "metadata": {
    "tags": []
   },
   "outputs": [
    {
     "name": "stdout",
     "output_type": "stream",
     "text": [
      "Loads checkpoint by local backend from path: /root/autodl-tmp/pannuke_app/train/mask_rcnn/consep/model_data/epoch_90.pth\n"
     ]
    },
    {
     "data": {
      "application/vnd.jupyter.widget-view+json": {
       "model_id": "0fa6fba248824befb9d4c64beaa4a136",
       "version_major": 2,
       "version_minor": 0
      },
      "text/plain": [
       "Output()"
      ]
     },
     "metadata": {},
     "output_type": "display_data"
    },
    {
     "data": {
      "text/html": [
       "<pre style=\"white-space:pre;overflow-x:auto;line-height:normal;font-family:Menlo,'DejaVu Sans Mono',consolas,'Courier New',monospace\"></pre>\n"
      ],
      "text/plain": []
     },
     "metadata": {},
     "output_type": "display_data"
    },
    {
     "data": {
      "text/html": [
       "<pre style=\"white-space:pre;overflow-x:auto;line-height:normal;font-family:Menlo,'DejaVu Sans Mono',consolas,'Courier New',monospace\">\n",
       "</pre>\n"
      ],
      "text/plain": [
       "\n"
      ]
     },
     "metadata": {},
     "output_type": "display_data"
    }
   ],
   "source": [
    "from mmdet.apis import DetInferencer\n",
    "\n",
    "# # 初始化模型\n",
    "# inferencer = DetInferencer(\"rtmdet_tiny_8xb32-300e_coco\")\n",
    "\n",
    "# # 推理示例图片\n",
    "# inferencer(\n",
    "#     \"/home/pannuke_app/train/datasets/CoNSeP/Train/Images/train_1.png\",\n",
    "#     out_dir=\"\",\n",
    "# )\n",
    "\n",
    "\n",
    "inferencer = DetInferencer(\n",
    "    model=\"/root/autodl-tmp/pannuke_app/train/mask_rcnn/consep/consep_config.py\",\n",
    "    weights=\"/root/autodl-tmp/pannuke_app/train/mask_rcnn/consep/model_data/epoch_90.pth\",\n",
    ")\n",
    "# 推理示例图片\n",
    "res = inferencer(\n",
    "    \"/root/autodl-tmp/pannuke_app/train/datasets/CoNSeP/Train/Images/train_1.png\",\n",
    "    out_dir=\".\",\n",
    "    pred_score_thr=0.1\n",
    ")\n"
   ]
  },
  {
   "cell_type": "code",
   "execution_count": 9,
   "id": "f72a97bb-5319-4a38-980a-b501fa0fc6b3",
   "metadata": {
    "tags": []
   },
   "outputs": [
    {
     "name": "stdout",
     "output_type": "stream",
     "text": [
      "Loads checkpoint by local backend from path: /root/autodl-tmp/pannuke_app/train/mask_rcnn/consep/model_data/epoch_90.pth\n"
     ]
    },
    {
     "data": {
      "application/vnd.jupyter.widget-view+json": {
       "model_id": "3993a8165294427abef1abd6b1bb883d",
       "version_major": 2,
       "version_minor": 0
      },
      "text/plain": [
       "Output()"
      ]
     },
     "metadata": {},
     "output_type": "display_data"
    },
    {
     "data": {
      "text/html": [
       "<pre style=\"white-space:pre;overflow-x:auto;line-height:normal;font-family:Menlo,'DejaVu Sans Mono',consolas,'Courier New',monospace\"></pre>\n"
      ],
      "text/plain": []
     },
     "metadata": {},
     "output_type": "display_data"
    },
    {
     "data": {
      "text/html": [
       "<pre style=\"white-space:pre;overflow-x:auto;line-height:normal;font-family:Menlo,'DejaVu Sans Mono',consolas,'Courier New',monospace\">\n",
       "</pre>\n"
      ],
      "text/plain": [
       "\n"
      ]
     },
     "metadata": {},
     "output_type": "display_data"
    }
   ],
   "source": [
    "inferencer = DetInferencer(\n",
    "    model=\"/root/autodl-tmp/pannuke_app/train/mask_rcnn/consep/consep_config.py\",\n",
    "    weights=\"/root/autodl-tmp/pannuke_app/train/mask_rcnn/consep/model_data/epoch_90.pth\",\n",
    ")\n",
    "# 推理示例图片\n",
    "res = inferencer(\n",
    "    \"/root/autodl-tmp/pannuke_app/train/datasets/CoNSeP/Train/Images/train_12.png\",\n",
    "    out_dir=\"./\",\n",
    "    pred_score_thr=0.05,\n",
    "#     draw_pred=True,\n",
    "#     show=True,\n",
    "#     print_result=True\n",
    ")"
   ]
  },
  {
   "cell_type": "code",
   "execution_count": null,
   "id": "e104176e-6b24-4873-8fe0-9be6a957858b",
   "metadata": {},
   "outputs": [],
   "source": [
    "# 手动预测和评估？"
   ]
  },
  {
   "cell_type": "code",
   "execution_count": 11,
   "id": "6473c065-4c44-48b9-be64-b4d41ab744d4",
   "metadata": {},
   "outputs": [
    {
     "data": {
      "text/plain": [
       "dict_keys(['predictions', 'visualization'])"
      ]
     },
     "execution_count": 11,
     "metadata": {},
     "output_type": "execute_result"
    }
   ],
   "source": [
    "res.keys()"
   ]
  },
  {
   "cell_type": "code",
   "execution_count": 12,
   "id": "7055852a-b033-43ca-a49b-38ff0ab90425",
   "metadata": {
    "collapsed": true,
    "jupyter": {
     "outputs_hidden": true
    },
    "tags": []
   },
   "outputs": [
    {
     "data": {
      "text/plain": [
       "[array([[[249, 247, 249],\n",
       "         [247, 246, 247],\n",
       "         [245, 244, 245],\n",
       "         ...,\n",
       "         [240, 167, 210],\n",
       "         [241, 169, 212],\n",
       "         [242, 172, 214]],\n",
       " \n",
       "        [[248, 247, 248],\n",
       "         [247, 246, 247],\n",
       "         [245, 245, 246],\n",
       "         ...,\n",
       "         [239, 168, 210],\n",
       "         [241, 171, 213],\n",
       "         [243, 174, 215]],\n",
       " \n",
       "        [[245, 243, 245],\n",
       "         [245, 244, 245],\n",
       "         [245, 244, 245],\n",
       "         ...,\n",
       "         [240, 169, 211],\n",
       "         [242, 173, 214],\n",
       "         [243, 176, 217]],\n",
       " \n",
       "        ...,\n",
       " \n",
       "        [[255, 219, 248],\n",
       "         [255, 219, 250],\n",
       "         [255, 212, 245],\n",
       "         ...,\n",
       "         [ 43, 107, 135],\n",
       "         [ 93,  80,  83],\n",
       "         [149, 112, 112]],\n",
       " \n",
       "        [[254, 216, 245],\n",
       "         [255, 220, 249],\n",
       "         [255, 218, 248],\n",
       "         ...,\n",
       "         [ 43, 107, 135],\n",
       "         [ 94,  80,  83],\n",
       "         [150, 111, 112]],\n",
       " \n",
       "        [[254, 214, 243],\n",
       "         [255, 221, 248],\n",
       "         [255, 222, 249],\n",
       "         ...,\n",
       "         [ 49, 102, 127],\n",
       "         [105,  70,  65],\n",
       "         [114,  70,  64]]], dtype=uint8)]"
      ]
     },
     "execution_count": 12,
     "metadata": {},
     "output_type": "execute_result"
    }
   ],
   "source": [
    "res['visualization']"
   ]
  },
  {
   "cell_type": "code",
   "execution_count": null,
   "id": "5eb3601f-5e27-4d1f-9eaa-4cfad0866a4d",
   "metadata": {},
   "outputs": [],
   "source": []
  },
  {
   "cell_type": "code",
   "execution_count": null,
   "id": "c8da2a30-8b1a-43a8-b57c-936e9f848db4",
   "metadata": {},
   "outputs": [],
   "source": []
  },
  {
   "cell_type": "code",
   "execution_count": null,
   "id": "710e6c90-f970-4250-97dc-0334c03ac7a6",
   "metadata": {},
   "outputs": [],
   "source": []
  },
  {
   "cell_type": "code",
   "execution_count": null,
   "id": "72b1b6e7-c512-4dbe-ae35-6c9581631339",
   "metadata": {},
   "outputs": [],
   "source": []
  },
  {
   "cell_type": "code",
   "execution_count": null,
   "id": "7ba56739-3645-46bb-9faa-9fa97fd1e86e",
   "metadata": {},
   "outputs": [],
   "source": []
  },
  {
   "cell_type": "code",
   "execution_count": null,
   "id": "2224b182-b647-46ae-af8f-9988a4290bbd",
   "metadata": {},
   "outputs": [],
   "source": []
  }
 ],
 "metadata": {
  "kernelspec": {
   "display_name": "Python 3 (ipykernel)",
   "language": "python",
   "name": "python3"
  },
  "language_info": {
   "codemirror_mode": {
    "name": "ipython",
    "version": 3
   },
   "file_extension": ".py",
   "mimetype": "text/x-python",
   "name": "python",
   "nbconvert_exporter": "python",
   "pygments_lexer": "ipython3",
   "version": "3.8.10"
  }
 },
 "nbformat": 4,
 "nbformat_minor": 5
}
