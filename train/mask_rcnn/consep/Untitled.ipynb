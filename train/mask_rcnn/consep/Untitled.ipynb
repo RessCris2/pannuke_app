{
 "cells": [
  {
   "cell_type": "code",
   "execution_count": 3,
   "id": "1f62f8d5-d53b-4bc0-ac48-0ff9422f81a5",
   "metadata": {
    "tags": []
   },
   "outputs": [
    {
     "ename": "ConfigParsingError",
     "evalue": "The configuration file type in the inheritance chain must match the current configuration file type, either \"lazy_import\" or non-\"lazy_import\". You got this error since you use the syntax like `_base_ = \"_base_\"` in your config. You should use `with read_base(): ... to` mark the inherited config file. See more information in https://mmengine.readthedocs.io/en/latest/advanced_tutorials/config.html",
     "output_type": "error",
     "traceback": [
      "\u001b[0;31m---------------------------------------------------------------------------\u001b[0m",
      "\u001b[0;31mConfigParsingError\u001b[0m                        Traceback (most recent call last)",
      "Cell \u001b[0;32mIn[3], line 4\u001b[0m\n\u001b[1;32m      1\u001b[0m \u001b[38;5;28;01mfrom\u001b[39;00m \u001b[38;5;21;01mmmdet\u001b[39;00m\u001b[38;5;21;01m.\u001b[39;00m\u001b[38;5;21;01mapis\u001b[39;00m \u001b[38;5;28;01mimport\u001b[39;00m DetInferencer\n\u001b[1;32m      3\u001b[0m \u001b[38;5;66;03m# 初始化模型\u001b[39;00m\n\u001b[0;32m----> 4\u001b[0m inferencer \u001b[38;5;241m=\u001b[39m DetInferencer(model\u001b[38;5;241m=\u001b[39m\u001b[38;5;124m'\u001b[39m\u001b[38;5;124m./consep_config.py\u001b[39m\u001b[38;5;124m'\u001b[39m,\n\u001b[1;32m      5\u001b[0m                           weights\u001b[38;5;241m=\u001b[39m\u001b[38;5;124m\"\u001b[39m\u001b[38;5;124m./epoch_80.pth\u001b[39m\u001b[38;5;124m\"\u001b[39m,\n\u001b[1;32m      6\u001b[0m                           device\u001b[38;5;241m=\u001b[39m\u001b[38;5;124m'\u001b[39m\u001b[38;5;124mcpu\u001b[39m\u001b[38;5;124m'\u001b[39m,\n\u001b[1;32m      7\u001b[0m                           )\n\u001b[1;32m      8\u001b[0m \u001b[38;5;66;03m# 推理示例图片\u001b[39;00m\n\u001b[1;32m      9\u001b[0m inferencer(\u001b[38;5;124m'\u001b[39m\u001b[38;5;124m/home/pannuke_app/train/datasets/CoNSeP/Train/Images/train_1.png\u001b[39m\u001b[38;5;124m'\u001b[39m, show\u001b[38;5;241m=\u001b[39m\u001b[38;5;28;01mTrue\u001b[39;00m,\n\u001b[1;32m     10\u001b[0m           pred_score_thr\u001b[38;5;241m=\u001b[39m\u001b[38;5;241m0.05\u001b[39m,\n\u001b[1;32m     11\u001b[0m            draw_pred\u001b[38;5;241m=\u001b[39m\u001b[38;5;28;01mTrue\u001b[39;00m,\n\u001b[1;32m     12\u001b[0m            out_dir\u001b[38;5;241m=\u001b[39m\u001b[38;5;124m'\u001b[39m\u001b[38;5;124m./\u001b[39m\u001b[38;5;124m'\u001b[39m\n\u001b[1;32m     13\u001b[0m           )\n",
      "File \u001b[0;32m~/anaconda3/lib/python3.11/site-packages/mmdet/apis/det_inferencer.py:99\u001b[0m, in \u001b[0;36mDetInferencer.__init__\u001b[0;34m(self, model, weights, device, scope, palette, show_progress)\u001b[0m\n\u001b[1;32m     97\u001b[0m \u001b[38;5;28mself\u001b[39m\u001b[38;5;241m.\u001b[39mpalette \u001b[38;5;241m=\u001b[39m palette\n\u001b[1;32m     98\u001b[0m init_default_scope(scope)\n\u001b[0;32m---> 99\u001b[0m \u001b[38;5;28msuper\u001b[39m()\u001b[38;5;241m.\u001b[39m\u001b[38;5;21m__init__\u001b[39m(\n\u001b[1;32m    100\u001b[0m     model\u001b[38;5;241m=\u001b[39mmodel, weights\u001b[38;5;241m=\u001b[39mweights, device\u001b[38;5;241m=\u001b[39mdevice, scope\u001b[38;5;241m=\u001b[39mscope)\n\u001b[1;32m    101\u001b[0m \u001b[38;5;28mself\u001b[39m\u001b[38;5;241m.\u001b[39mmodel \u001b[38;5;241m=\u001b[39m revert_sync_batchnorm(\u001b[38;5;28mself\u001b[39m\u001b[38;5;241m.\u001b[39mmodel)\n\u001b[1;32m    102\u001b[0m \u001b[38;5;28mself\u001b[39m\u001b[38;5;241m.\u001b[39mshow_progress \u001b[38;5;241m=\u001b[39m show_progress\n",
      "File \u001b[0;32m~/anaconda3/lib/python3.11/site-packages/mmengine/infer/infer.py:156\u001b[0m, in \u001b[0;36mBaseInferencer.__init__\u001b[0;34m(self, model, weights, device, scope, show_progress)\u001b[0m\n\u001b[1;32m    154\u001b[0m \u001b[38;5;28;01mif\u001b[39;00m \u001b[38;5;28misinstance\u001b[39m(model, \u001b[38;5;28mstr\u001b[39m):\n\u001b[1;32m    155\u001b[0m     \u001b[38;5;28;01mif\u001b[39;00m osp\u001b[38;5;241m.\u001b[39misfile(model):\n\u001b[0;32m--> 156\u001b[0m         cfg \u001b[38;5;241m=\u001b[39m Config\u001b[38;5;241m.\u001b[39mfromfile(model)\n\u001b[1;32m    157\u001b[0m     \u001b[38;5;28;01melse\u001b[39;00m:\n\u001b[1;32m    158\u001b[0m         \u001b[38;5;66;03m# Load config and weights from metafile. If `weights` is\u001b[39;00m\n\u001b[1;32m    159\u001b[0m         \u001b[38;5;66;03m# assigned, the weights defined in metafile will be ignored.\u001b[39;00m\n\u001b[1;32m    160\u001b[0m         cfg, _weights \u001b[38;5;241m=\u001b[39m \u001b[38;5;28mself\u001b[39m\u001b[38;5;241m.\u001b[39m_load_model_from_metafile(model)\n",
      "File \u001b[0;32m~/anaconda3/lib/python3.11/site-packages/mmengine/config/config.py:490\u001b[0m, in \u001b[0;36mConfig.fromfile\u001b[0;34m(filename, use_predefined_variables, import_custom_modules, use_environment_variables, lazy_import, format_python_code)\u001b[0m\n\u001b[1;32m    488\u001b[0m     cfg_dict, imported_names \u001b[38;5;241m=\u001b[39m Config\u001b[38;5;241m.\u001b[39m_parse_lazy_import(filename)\n\u001b[1;32m    489\u001b[0m \u001b[38;5;28;01mexcept\u001b[39;00m \u001b[38;5;167;01mException\u001b[39;00m \u001b[38;5;28;01mas\u001b[39;00m e:\n\u001b[0;32m--> 490\u001b[0m     \u001b[38;5;28;01mraise\u001b[39;00m e\n\u001b[1;32m    491\u001b[0m \u001b[38;5;28;01mfinally\u001b[39;00m:\n\u001b[1;32m    492\u001b[0m     \u001b[38;5;66;03m# disable lazy import to get the real type. See more details\u001b[39;00m\n\u001b[1;32m    493\u001b[0m     \u001b[38;5;66;03m# about lazy in the docstring of ConfigDict\u001b[39;00m\n\u001b[1;32m    494\u001b[0m     ConfigDict\u001b[38;5;241m.\u001b[39mlazy \u001b[38;5;241m=\u001b[39m \u001b[38;5;28;01mFalse\u001b[39;00m\n",
      "File \u001b[0;32m~/anaconda3/lib/python3.11/site-packages/mmengine/config/config.py:488\u001b[0m, in \u001b[0;36mConfig.fromfile\u001b[0;34m(filename, use_predefined_variables, import_custom_modules, use_environment_variables, lazy_import, format_python_code)\u001b[0m\n\u001b[1;32m    486\u001b[0m ConfigDict\u001b[38;5;241m.\u001b[39mlazy \u001b[38;5;241m=\u001b[39m \u001b[38;5;28;01mTrue\u001b[39;00m\n\u001b[1;32m    487\u001b[0m \u001b[38;5;28;01mtry\u001b[39;00m:\n\u001b[0;32m--> 488\u001b[0m     cfg_dict, imported_names \u001b[38;5;241m=\u001b[39m Config\u001b[38;5;241m.\u001b[39m_parse_lazy_import(filename)\n\u001b[1;32m    489\u001b[0m \u001b[38;5;28;01mexcept\u001b[39;00m \u001b[38;5;167;01mException\u001b[39;00m \u001b[38;5;28;01mas\u001b[39;00m e:\n\u001b[1;32m    490\u001b[0m     \u001b[38;5;28;01mraise\u001b[39;00m e\n",
      "File \u001b[0;32m~/anaconda3/lib/python3.11/site-packages/mmengine/config/config.py:1038\u001b[0m, in \u001b[0;36mConfig._parse_lazy_import\u001b[0;34m(filename)\u001b[0m\n\u001b[1;32m   1035\u001b[0m parsed_codes \u001b[38;5;241m=\u001b[39m ast\u001b[38;5;241m.\u001b[39mparse(f\u001b[38;5;241m.\u001b[39mread())\n\u001b[1;32m   1036\u001b[0m \u001b[38;5;66;03m# get the names of base modules, and remove the\u001b[39;00m\n\u001b[1;32m   1037\u001b[0m \u001b[38;5;66;03m# `with read_base():'` statement\u001b[39;00m\n\u001b[0;32m-> 1038\u001b[0m base_modules \u001b[38;5;241m=\u001b[39m Config\u001b[38;5;241m.\u001b[39m_get_base_modules(parsed_codes\u001b[38;5;241m.\u001b[39mbody)\n\u001b[1;32m   1039\u001b[0m base_imported_names \u001b[38;5;241m=\u001b[39m \u001b[38;5;28mset\u001b[39m()\n\u001b[1;32m   1040\u001b[0m \u001b[38;5;28;01mfor\u001b[39;00m base_module \u001b[38;5;129;01min\u001b[39;00m base_modules:\n\u001b[1;32m   1041\u001b[0m     \u001b[38;5;66;03m# If base_module means a relative import, assuming the level is\u001b[39;00m\n\u001b[1;32m   1042\u001b[0m     \u001b[38;5;66;03m# 2, which means the module is imported like\u001b[39;00m\n\u001b[1;32m   1043\u001b[0m     \u001b[38;5;66;03m# \"from ..a.b import c\". we must ensure that c is an\u001b[39;00m\n\u001b[1;32m   1044\u001b[0m     \u001b[38;5;66;03m# object `defined` in module b, and module b should not be a\u001b[39;00m\n\u001b[1;32m   1045\u001b[0m     \u001b[38;5;66;03m# package including `__init__` file but a single python file.\u001b[39;00m\n",
      "File \u001b[0;32m~/anaconda3/lib/python3.11/site-packages/mmengine/config/config.py:575\u001b[0m, in \u001b[0;36mConfig._get_base_modules\u001b[0;34m(nodes)\u001b[0m\n\u001b[1;32m    571\u001b[0m \u001b[38;5;28;01mfor\u001b[39;00m idx, node \u001b[38;5;129;01min\u001b[39;00m \u001b[38;5;28menumerate\u001b[39m(nodes):\n\u001b[1;32m    572\u001b[0m     \u001b[38;5;28;01mif\u001b[39;00m (\u001b[38;5;28misinstance\u001b[39m(node, ast\u001b[38;5;241m.\u001b[39mAssign)\n\u001b[1;32m    573\u001b[0m             \u001b[38;5;129;01mand\u001b[39;00m \u001b[38;5;28misinstance\u001b[39m(node\u001b[38;5;241m.\u001b[39mtargets[\u001b[38;5;241m0\u001b[39m], ast\u001b[38;5;241m.\u001b[39mName)\n\u001b[1;32m    574\u001b[0m             \u001b[38;5;129;01mand\u001b[39;00m node\u001b[38;5;241m.\u001b[39mtargets[\u001b[38;5;241m0\u001b[39m]\u001b[38;5;241m.\u001b[39mid \u001b[38;5;241m==\u001b[39m BASE_KEY):\n\u001b[0;32m--> 575\u001b[0m         \u001b[38;5;28;01mraise\u001b[39;00m ConfigParsingError(\n\u001b[1;32m    576\u001b[0m             \u001b[38;5;124m'\u001b[39m\u001b[38;5;124mThe configuration file type in the inheritance chain \u001b[39m\u001b[38;5;124m'\u001b[39m\n\u001b[1;32m    577\u001b[0m             \u001b[38;5;124m'\u001b[39m\u001b[38;5;124mmust match the current configuration file type, either \u001b[39m\u001b[38;5;124m'\u001b[39m\n\u001b[1;32m    578\u001b[0m             \u001b[38;5;124m'\u001b[39m\u001b[38;5;124m\"\u001b[39m\u001b[38;5;124mlazy_import\u001b[39m\u001b[38;5;124m\"\u001b[39m\u001b[38;5;124m or non-\u001b[39m\u001b[38;5;124m\"\u001b[39m\u001b[38;5;124mlazy_import\u001b[39m\u001b[38;5;124m\"\u001b[39m\u001b[38;5;124m. You got this error \u001b[39m\u001b[38;5;124m'\u001b[39m\n\u001b[1;32m    579\u001b[0m             \u001b[38;5;124mf\u001b[39m\u001b[38;5;124m'\u001b[39m\u001b[38;5;124msince you use the syntax like `_base_ = \u001b[39m\u001b[38;5;124m\"\u001b[39m\u001b[38;5;132;01m{\u001b[39;00mnode\u001b[38;5;241m.\u001b[39mtargets[\u001b[38;5;241m0\u001b[39m]\u001b[38;5;241m.\u001b[39mid\u001b[38;5;132;01m}\u001b[39;00m\u001b[38;5;124m\"\u001b[39m\u001b[38;5;124m` \u001b[39m\u001b[38;5;124m'\u001b[39m  \u001b[38;5;66;03m# noqa: E501\u001b[39;00m\n\u001b[1;32m    580\u001b[0m             \u001b[38;5;124m'\u001b[39m\u001b[38;5;124min your config. You should use `with read_base(): ... to` \u001b[39m\u001b[38;5;124m'\u001b[39m  \u001b[38;5;66;03m# noqa: E501\u001b[39;00m\n\u001b[1;32m    581\u001b[0m             \u001b[38;5;124m'\u001b[39m\u001b[38;5;124mmark the inherited config file. See more information \u001b[39m\u001b[38;5;124m'\u001b[39m\n\u001b[1;32m    582\u001b[0m             \u001b[38;5;124m'\u001b[39m\u001b[38;5;124min https://mmengine.readthedocs.io/en/latest/advanced_tutorials/config.html\u001b[39m\u001b[38;5;124m'\u001b[39m  \u001b[38;5;66;03m# noqa: E501\u001b[39;00m\n\u001b[1;32m    583\u001b[0m         )\n\u001b[1;32m    585\u001b[0m     \u001b[38;5;28;01mif\u001b[39;00m \u001b[38;5;129;01mnot\u001b[39;00m \u001b[38;5;28misinstance\u001b[39m(node, ast\u001b[38;5;241m.\u001b[39mWith):\n\u001b[1;32m    586\u001b[0m         \u001b[38;5;28;01mcontinue\u001b[39;00m\n",
      "\u001b[0;31mConfigParsingError\u001b[0m: The configuration file type in the inheritance chain must match the current configuration file type, either \"lazy_import\" or non-\"lazy_import\". You got this error since you use the syntax like `_base_ = \"_base_\"` in your config. You should use `with read_base(): ... to` mark the inherited config file. See more information in https://mmengine.readthedocs.io/en/latest/advanced_tutorials/config.html"
     ]
    }
   ],
   "source": [
    "from mmdet.apis import DetInferencer\n",
    "\n",
    "# 初始化模型\n",
    "inferencer = DetInferencer(model='./consep_config.py',\n",
    "                          weights=\"./epoch_80.pth\",\n",
    "                          device='cpu',\n",
    "                          )\n",
    "# 推理示例图片\n",
    "inferencer('/home/pannuke_app/train/datasets/CoNSeP/Train/Images/train_1.png', show=True,\n",
    "          pred_score_thr=0.05,\n",
    "           draw_pred=True,\n",
    "           out_dir='./'\n",
    "          )"
   ]
  }
 ],
 "metadata": {
  "kernelspec": {
   "display_name": "Python 3 (ipykernel)",
   "language": "python",
   "name": "python3"
  },
  "language_info": {
   "codemirror_mode": {
    "name": "ipython",
    "version": 3
   },
   "file_extension": ".py",
   "mimetype": "text/x-python",
   "name": "python",
   "nbconvert_exporter": "python",
   "pygments_lexer": "ipython3",
   "version": "3.11.5"
  }
 },
 "nbformat": 4,
 "nbformat_minor": 5
}
