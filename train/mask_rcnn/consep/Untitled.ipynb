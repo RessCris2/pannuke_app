{
 "cells": [
  {
   "cell_type": "code",
<<<<<<< HEAD
   "execution_count": 3,
   "id": "1f62f8d5-d53b-4bc0-ac48-0ff9422f81a5",
=======
   "execution_count": 1,
   "id": "2bfbf512-7c38-4d6d-897c-9a5eddf5dd3e",
   "metadata": {},
   "outputs": [],
   "source": [
    "import numpy as np\n",
    "import mmcv"
   ]
  },
  {
   "cell_type": "code",
   "execution_count": 21,
   "id": "212f253e-9e5e-4a3d-8617-0fa947031f55",
   "metadata": {},
   "outputs": [
    {
     "data": {
      "text/plain": [
       "True"
      ]
     },
     "execution_count": 21,
     "metadata": {},
     "output_type": "execute_result"
    }
   ],
   "source": [
    "mmcv.imwrite(np.load('tt.npy'), 'tt.png')"
   ]
  },
  {
   "cell_type": "code",
   "execution_count": null,
   "id": "58981f08-f807-49a0-9973-ae232f6f9e78",
   "metadata": {},
   "outputs": [],
   "source": [
    "# !python tools/analysis_tools/analyze_logs.py plot_curve log.json --keys loss_cls --legend loss_cls\n",
    "!python tools/analysis_tools/analyze_logs.py plot 20231106_010905.log\\\n",
    "--keys loss_cls --legend loss_cls"
   ]
  },
  {
   "cell_type": "code",
   "execution_count": 8,
   "id": "1ad0384b-177a-4151-b078-60a126305e38",
>>>>>>> b7bbb54e5b61db3f4aad483aae3478e55f0c1c5f
   "metadata": {
    "tags": []
   },
   "outputs": [
    {
<<<<<<< HEAD
     "ename": "ConfigParsingError",
     "evalue": "The configuration file type in the inheritance chain must match the current configuration file type, either \"lazy_import\" or non-\"lazy_import\". You got this error since you use the syntax like `_base_ = \"_base_\"` in your config. You should use `with read_base(): ... to` mark the inherited config file. See more information in https://mmengine.readthedocs.io/en/latest/advanced_tutorials/config.html",
     "output_type": "error",
     "traceback": [
      "\u001b[0;31m---------------------------------------------------------------------------\u001b[0m",
      "\u001b[0;31mConfigParsingError\u001b[0m                        Traceback (most recent call last)",
      "Cell \u001b[0;32mIn[3], line 4\u001b[0m\n\u001b[1;32m      1\u001b[0m \u001b[38;5;28;01mfrom\u001b[39;00m \u001b[38;5;21;01mmmdet\u001b[39;00m\u001b[38;5;21;01m.\u001b[39;00m\u001b[38;5;21;01mapis\u001b[39;00m \u001b[38;5;28;01mimport\u001b[39;00m DetInferencer\n\u001b[1;32m      3\u001b[0m \u001b[38;5;66;03m# 初始化模型\u001b[39;00m\n\u001b[0;32m----> 4\u001b[0m inferencer \u001b[38;5;241m=\u001b[39m DetInferencer(model\u001b[38;5;241m=\u001b[39m\u001b[38;5;124m'\u001b[39m\u001b[38;5;124m./consep_config.py\u001b[39m\u001b[38;5;124m'\u001b[39m,\n\u001b[1;32m      5\u001b[0m                           weights\u001b[38;5;241m=\u001b[39m\u001b[38;5;124m\"\u001b[39m\u001b[38;5;124m./epoch_80.pth\u001b[39m\u001b[38;5;124m\"\u001b[39m,\n\u001b[1;32m      6\u001b[0m                           device\u001b[38;5;241m=\u001b[39m\u001b[38;5;124m'\u001b[39m\u001b[38;5;124mcpu\u001b[39m\u001b[38;5;124m'\u001b[39m,\n\u001b[1;32m      7\u001b[0m                           )\n\u001b[1;32m      8\u001b[0m \u001b[38;5;66;03m# 推理示例图片\u001b[39;00m\n\u001b[1;32m      9\u001b[0m inferencer(\u001b[38;5;124m'\u001b[39m\u001b[38;5;124m/home/pannuke_app/train/datasets/CoNSeP/Train/Images/train_1.png\u001b[39m\u001b[38;5;124m'\u001b[39m, show\u001b[38;5;241m=\u001b[39m\u001b[38;5;28;01mTrue\u001b[39;00m,\n\u001b[1;32m     10\u001b[0m           pred_score_thr\u001b[38;5;241m=\u001b[39m\u001b[38;5;241m0.05\u001b[39m,\n\u001b[1;32m     11\u001b[0m            draw_pred\u001b[38;5;241m=\u001b[39m\u001b[38;5;28;01mTrue\u001b[39;00m,\n\u001b[1;32m     12\u001b[0m            out_dir\u001b[38;5;241m=\u001b[39m\u001b[38;5;124m'\u001b[39m\u001b[38;5;124m./\u001b[39m\u001b[38;5;124m'\u001b[39m\n\u001b[1;32m     13\u001b[0m           )\n",
      "File \u001b[0;32m~/anaconda3/lib/python3.11/site-packages/mmdet/apis/det_inferencer.py:99\u001b[0m, in \u001b[0;36mDetInferencer.__init__\u001b[0;34m(self, model, weights, device, scope, palette, show_progress)\u001b[0m\n\u001b[1;32m     97\u001b[0m \u001b[38;5;28mself\u001b[39m\u001b[38;5;241m.\u001b[39mpalette \u001b[38;5;241m=\u001b[39m palette\n\u001b[1;32m     98\u001b[0m init_default_scope(scope)\n\u001b[0;32m---> 99\u001b[0m \u001b[38;5;28msuper\u001b[39m()\u001b[38;5;241m.\u001b[39m\u001b[38;5;21m__init__\u001b[39m(\n\u001b[1;32m    100\u001b[0m     model\u001b[38;5;241m=\u001b[39mmodel, weights\u001b[38;5;241m=\u001b[39mweights, device\u001b[38;5;241m=\u001b[39mdevice, scope\u001b[38;5;241m=\u001b[39mscope)\n\u001b[1;32m    101\u001b[0m \u001b[38;5;28mself\u001b[39m\u001b[38;5;241m.\u001b[39mmodel \u001b[38;5;241m=\u001b[39m revert_sync_batchnorm(\u001b[38;5;28mself\u001b[39m\u001b[38;5;241m.\u001b[39mmodel)\n\u001b[1;32m    102\u001b[0m \u001b[38;5;28mself\u001b[39m\u001b[38;5;241m.\u001b[39mshow_progress \u001b[38;5;241m=\u001b[39m show_progress\n",
      "File \u001b[0;32m~/anaconda3/lib/python3.11/site-packages/mmengine/infer/infer.py:156\u001b[0m, in \u001b[0;36mBaseInferencer.__init__\u001b[0;34m(self, model, weights, device, scope, show_progress)\u001b[0m\n\u001b[1;32m    154\u001b[0m \u001b[38;5;28;01mif\u001b[39;00m \u001b[38;5;28misinstance\u001b[39m(model, \u001b[38;5;28mstr\u001b[39m):\n\u001b[1;32m    155\u001b[0m     \u001b[38;5;28;01mif\u001b[39;00m osp\u001b[38;5;241m.\u001b[39misfile(model):\n\u001b[0;32m--> 156\u001b[0m         cfg \u001b[38;5;241m=\u001b[39m Config\u001b[38;5;241m.\u001b[39mfromfile(model)\n\u001b[1;32m    157\u001b[0m     \u001b[38;5;28;01melse\u001b[39;00m:\n\u001b[1;32m    158\u001b[0m         \u001b[38;5;66;03m# Load config and weights from metafile. If `weights` is\u001b[39;00m\n\u001b[1;32m    159\u001b[0m         \u001b[38;5;66;03m# assigned, the weights defined in metafile will be ignored.\u001b[39;00m\n\u001b[1;32m    160\u001b[0m         cfg, _weights \u001b[38;5;241m=\u001b[39m \u001b[38;5;28mself\u001b[39m\u001b[38;5;241m.\u001b[39m_load_model_from_metafile(model)\n",
      "File \u001b[0;32m~/anaconda3/lib/python3.11/site-packages/mmengine/config/config.py:490\u001b[0m, in \u001b[0;36mConfig.fromfile\u001b[0;34m(filename, use_predefined_variables, import_custom_modules, use_environment_variables, lazy_import, format_python_code)\u001b[0m\n\u001b[1;32m    488\u001b[0m     cfg_dict, imported_names \u001b[38;5;241m=\u001b[39m Config\u001b[38;5;241m.\u001b[39m_parse_lazy_import(filename)\n\u001b[1;32m    489\u001b[0m \u001b[38;5;28;01mexcept\u001b[39;00m \u001b[38;5;167;01mException\u001b[39;00m \u001b[38;5;28;01mas\u001b[39;00m e:\n\u001b[0;32m--> 490\u001b[0m     \u001b[38;5;28;01mraise\u001b[39;00m e\n\u001b[1;32m    491\u001b[0m \u001b[38;5;28;01mfinally\u001b[39;00m:\n\u001b[1;32m    492\u001b[0m     \u001b[38;5;66;03m# disable lazy import to get the real type. See more details\u001b[39;00m\n\u001b[1;32m    493\u001b[0m     \u001b[38;5;66;03m# about lazy in the docstring of ConfigDict\u001b[39;00m\n\u001b[1;32m    494\u001b[0m     ConfigDict\u001b[38;5;241m.\u001b[39mlazy \u001b[38;5;241m=\u001b[39m \u001b[38;5;28;01mFalse\u001b[39;00m\n",
      "File \u001b[0;32m~/anaconda3/lib/python3.11/site-packages/mmengine/config/config.py:488\u001b[0m, in \u001b[0;36mConfig.fromfile\u001b[0;34m(filename, use_predefined_variables, import_custom_modules, use_environment_variables, lazy_import, format_python_code)\u001b[0m\n\u001b[1;32m    486\u001b[0m ConfigDict\u001b[38;5;241m.\u001b[39mlazy \u001b[38;5;241m=\u001b[39m \u001b[38;5;28;01mTrue\u001b[39;00m\n\u001b[1;32m    487\u001b[0m \u001b[38;5;28;01mtry\u001b[39;00m:\n\u001b[0;32m--> 488\u001b[0m     cfg_dict, imported_names \u001b[38;5;241m=\u001b[39m Config\u001b[38;5;241m.\u001b[39m_parse_lazy_import(filename)\n\u001b[1;32m    489\u001b[0m \u001b[38;5;28;01mexcept\u001b[39;00m \u001b[38;5;167;01mException\u001b[39;00m \u001b[38;5;28;01mas\u001b[39;00m e:\n\u001b[1;32m    490\u001b[0m     \u001b[38;5;28;01mraise\u001b[39;00m e\n",
      "File \u001b[0;32m~/anaconda3/lib/python3.11/site-packages/mmengine/config/config.py:1038\u001b[0m, in \u001b[0;36mConfig._parse_lazy_import\u001b[0;34m(filename)\u001b[0m\n\u001b[1;32m   1035\u001b[0m parsed_codes \u001b[38;5;241m=\u001b[39m ast\u001b[38;5;241m.\u001b[39mparse(f\u001b[38;5;241m.\u001b[39mread())\n\u001b[1;32m   1036\u001b[0m \u001b[38;5;66;03m# get the names of base modules, and remove the\u001b[39;00m\n\u001b[1;32m   1037\u001b[0m \u001b[38;5;66;03m# `with read_base():'` statement\u001b[39;00m\n\u001b[0;32m-> 1038\u001b[0m base_modules \u001b[38;5;241m=\u001b[39m Config\u001b[38;5;241m.\u001b[39m_get_base_modules(parsed_codes\u001b[38;5;241m.\u001b[39mbody)\n\u001b[1;32m   1039\u001b[0m base_imported_names \u001b[38;5;241m=\u001b[39m \u001b[38;5;28mset\u001b[39m()\n\u001b[1;32m   1040\u001b[0m \u001b[38;5;28;01mfor\u001b[39;00m base_module \u001b[38;5;129;01min\u001b[39;00m base_modules:\n\u001b[1;32m   1041\u001b[0m     \u001b[38;5;66;03m# If base_module means a relative import, assuming the level is\u001b[39;00m\n\u001b[1;32m   1042\u001b[0m     \u001b[38;5;66;03m# 2, which means the module is imported like\u001b[39;00m\n\u001b[1;32m   1043\u001b[0m     \u001b[38;5;66;03m# \"from ..a.b import c\". we must ensure that c is an\u001b[39;00m\n\u001b[1;32m   1044\u001b[0m     \u001b[38;5;66;03m# object `defined` in module b, and module b should not be a\u001b[39;00m\n\u001b[1;32m   1045\u001b[0m     \u001b[38;5;66;03m# package including `__init__` file but a single python file.\u001b[39;00m\n",
      "File \u001b[0;32m~/anaconda3/lib/python3.11/site-packages/mmengine/config/config.py:575\u001b[0m, in \u001b[0;36mConfig._get_base_modules\u001b[0;34m(nodes)\u001b[0m\n\u001b[1;32m    571\u001b[0m \u001b[38;5;28;01mfor\u001b[39;00m idx, node \u001b[38;5;129;01min\u001b[39;00m \u001b[38;5;28menumerate\u001b[39m(nodes):\n\u001b[1;32m    572\u001b[0m     \u001b[38;5;28;01mif\u001b[39;00m (\u001b[38;5;28misinstance\u001b[39m(node, ast\u001b[38;5;241m.\u001b[39mAssign)\n\u001b[1;32m    573\u001b[0m             \u001b[38;5;129;01mand\u001b[39;00m \u001b[38;5;28misinstance\u001b[39m(node\u001b[38;5;241m.\u001b[39mtargets[\u001b[38;5;241m0\u001b[39m], ast\u001b[38;5;241m.\u001b[39mName)\n\u001b[1;32m    574\u001b[0m             \u001b[38;5;129;01mand\u001b[39;00m node\u001b[38;5;241m.\u001b[39mtargets[\u001b[38;5;241m0\u001b[39m]\u001b[38;5;241m.\u001b[39mid \u001b[38;5;241m==\u001b[39m BASE_KEY):\n\u001b[0;32m--> 575\u001b[0m         \u001b[38;5;28;01mraise\u001b[39;00m ConfigParsingError(\n\u001b[1;32m    576\u001b[0m             \u001b[38;5;124m'\u001b[39m\u001b[38;5;124mThe configuration file type in the inheritance chain \u001b[39m\u001b[38;5;124m'\u001b[39m\n\u001b[1;32m    577\u001b[0m             \u001b[38;5;124m'\u001b[39m\u001b[38;5;124mmust match the current configuration file type, either \u001b[39m\u001b[38;5;124m'\u001b[39m\n\u001b[1;32m    578\u001b[0m             \u001b[38;5;124m'\u001b[39m\u001b[38;5;124m\"\u001b[39m\u001b[38;5;124mlazy_import\u001b[39m\u001b[38;5;124m\"\u001b[39m\u001b[38;5;124m or non-\u001b[39m\u001b[38;5;124m\"\u001b[39m\u001b[38;5;124mlazy_import\u001b[39m\u001b[38;5;124m\"\u001b[39m\u001b[38;5;124m. You got this error \u001b[39m\u001b[38;5;124m'\u001b[39m\n\u001b[1;32m    579\u001b[0m             \u001b[38;5;124mf\u001b[39m\u001b[38;5;124m'\u001b[39m\u001b[38;5;124msince you use the syntax like `_base_ = \u001b[39m\u001b[38;5;124m\"\u001b[39m\u001b[38;5;132;01m{\u001b[39;00mnode\u001b[38;5;241m.\u001b[39mtargets[\u001b[38;5;241m0\u001b[39m]\u001b[38;5;241m.\u001b[39mid\u001b[38;5;132;01m}\u001b[39;00m\u001b[38;5;124m\"\u001b[39m\u001b[38;5;124m` \u001b[39m\u001b[38;5;124m'\u001b[39m  \u001b[38;5;66;03m# noqa: E501\u001b[39;00m\n\u001b[1;32m    580\u001b[0m             \u001b[38;5;124m'\u001b[39m\u001b[38;5;124min your config. You should use `with read_base(): ... to` \u001b[39m\u001b[38;5;124m'\u001b[39m  \u001b[38;5;66;03m# noqa: E501\u001b[39;00m\n\u001b[1;32m    581\u001b[0m             \u001b[38;5;124m'\u001b[39m\u001b[38;5;124mmark the inherited config file. See more information \u001b[39m\u001b[38;5;124m'\u001b[39m\n\u001b[1;32m    582\u001b[0m             \u001b[38;5;124m'\u001b[39m\u001b[38;5;124min https://mmengine.readthedocs.io/en/latest/advanced_tutorials/config.html\u001b[39m\u001b[38;5;124m'\u001b[39m  \u001b[38;5;66;03m# noqa: E501\u001b[39;00m\n\u001b[1;32m    583\u001b[0m         )\n\u001b[1;32m    585\u001b[0m     \u001b[38;5;28;01mif\u001b[39;00m \u001b[38;5;129;01mnot\u001b[39;00m \u001b[38;5;28misinstance\u001b[39m(node, ast\u001b[38;5;241m.\u001b[39mWith):\n\u001b[1;32m    586\u001b[0m         \u001b[38;5;28;01mcontinue\u001b[39;00m\n",
      "\u001b[0;31mConfigParsingError\u001b[0m: The configuration file type in the inheritance chain must match the current configuration file type, either \"lazy_import\" or non-\"lazy_import\". You got this error since you use the syntax like `_base_ = \"_base_\"` in your config. You should use `with read_base(): ... to` mark the inherited config file. See more information in https://mmengine.readthedocs.io/en/latest/advanced_tutorials/config.html"
     ]
=======
     "name": "stdout",
     "output_type": "stream",
     "text": [
      "Loads checkpoint by local backend from path: /root/autodl-tmp/pannuke_app/train/mask_rcnn/consep/model_data/epoch_90.pth\n"
     ]
    },
    {
     "data": {
      "application/vnd.jupyter.widget-view+json": {
       "model_id": "0fa6fba248824befb9d4c64beaa4a136",
       "version_major": 2,
       "version_minor": 0
      },
      "text/plain": [
       "Output()"
      ]
     },
     "metadata": {},
     "output_type": "display_data"
    },
    {
     "data": {
      "text/html": [
       "<pre style=\"white-space:pre;overflow-x:auto;line-height:normal;font-family:Menlo,'DejaVu Sans Mono',consolas,'Courier New',monospace\"></pre>\n"
      ],
      "text/plain": []
     },
     "metadata": {},
     "output_type": "display_data"
    },
    {
     "data": {
      "text/html": [
       "<pre style=\"white-space:pre;overflow-x:auto;line-height:normal;font-family:Menlo,'DejaVu Sans Mono',consolas,'Courier New',monospace\">\n",
       "</pre>\n"
      ],
      "text/plain": [
       "\n"
      ]
     },
     "metadata": {},
     "output_type": "display_data"
>>>>>>> b7bbb54e5b61db3f4aad483aae3478e55f0c1c5f
    }
   ],
   "source": [
    "from mmdet.apis import DetInferencer\n",
    "\n",
<<<<<<< HEAD
    "# 初始化模型\n",
    "inferencer = DetInferencer(model='./consep_config.py',\n",
    "                          weights=\"./epoch_80.pth\",\n",
    "                          device='cpu',\n",
    "                          )\n",
    "# 推理示例图片\n",
    "inferencer('/home/pannuke_app/train/datasets/CoNSeP/Train/Images/train_1.png', show=True,\n",
    "          pred_score_thr=0.05,\n",
    "           draw_pred=True,\n",
    "           out_dir='./'\n",
    "          )"
   ]
=======
    "# # 初始化模型\n",
    "# inferencer = DetInferencer(\"rtmdet_tiny_8xb32-300e_coco\")\n",
    "\n",
    "# # 推理示例图片\n",
    "# inferencer(\n",
    "#     \"/home/pannuke_app/train/datasets/CoNSeP/Train/Images/train_1.png\",\n",
    "#     out_dir=\"\",\n",
    "# )\n",
    "\n",
    "\n",
    "inferencer = DetInferencer(\n",
    "    model=\"/root/autodl-tmp/pannuke_app/train/mask_rcnn/consep/consep_config.py\",\n",
    "    weights=\"/root/autodl-tmp/pannuke_app/train/mask_rcnn/consep/model_data/epoch_90.pth\",\n",
    ")\n",
    "# 推理示例图片\n",
    "res = inferencer(\n",
    "    \"/root/autodl-tmp/pannuke_app/train/datasets/CoNSeP/Train/Images/train_1.png\",\n",
    "    out_dir=\".\",\n",
    "    pred_score_thr=0.1\n",
    ")\n"
   ]
  },
  {
   "cell_type": "code",
   "execution_count": 9,
   "id": "f72a97bb-5319-4a38-980a-b501fa0fc6b3",
   "metadata": {
    "tags": []
   },
   "outputs": [
    {
     "name": "stdout",
     "output_type": "stream",
     "text": [
      "Loads checkpoint by local backend from path: /root/autodl-tmp/pannuke_app/train/mask_rcnn/consep/model_data/epoch_90.pth\n"
     ]
    },
    {
     "data": {
      "application/vnd.jupyter.widget-view+json": {
       "model_id": "3993a8165294427abef1abd6b1bb883d",
       "version_major": 2,
       "version_minor": 0
      },
      "text/plain": [
       "Output()"
      ]
     },
     "metadata": {},
     "output_type": "display_data"
    },
    {
     "data": {
      "text/html": [
       "<pre style=\"white-space:pre;overflow-x:auto;line-height:normal;font-family:Menlo,'DejaVu Sans Mono',consolas,'Courier New',monospace\"></pre>\n"
      ],
      "text/plain": []
     },
     "metadata": {},
     "output_type": "display_data"
    },
    {
     "data": {
      "text/html": [
       "<pre style=\"white-space:pre;overflow-x:auto;line-height:normal;font-family:Menlo,'DejaVu Sans Mono',consolas,'Courier New',monospace\">\n",
       "</pre>\n"
      ],
      "text/plain": [
       "\n"
      ]
     },
     "metadata": {},
     "output_type": "display_data"
    }
   ],
   "source": [
    "inferencer = DetInferencer(\n",
    "    model=\"/root/autodl-tmp/pannuke_app/train/mask_rcnn/consep/consep_config.py\",\n",
    "    weights=\"/root/autodl-tmp/pannuke_app/train/mask_rcnn/consep/model_data/epoch_90.pth\",\n",
    ")\n",
    "# 推理示例图片\n",
    "res = inferencer(\n",
    "    \"/root/autodl-tmp/pannuke_app/train/datasets/CoNSeP/Train/Images/train_12.png\",\n",
    "    out_dir=\"./\",\n",
    "    pred_score_thr=0.05,\n",
    "#     draw_pred=True,\n",
    "#     show=True,\n",
    "#     print_result=True\n",
    ")"
   ]
  },
  {
   "cell_type": "code",
   "execution_count": null,
   "id": "e104176e-6b24-4873-8fe0-9be6a957858b",
   "metadata": {},
   "outputs": [],
   "source": [
    "# 手动预测和评估？"
   ]
  },
  {
   "cell_type": "code",
   "execution_count": 11,
   "id": "6473c065-4c44-48b9-be64-b4d41ab744d4",
   "metadata": {},
   "outputs": [
    {
     "data": {
      "text/plain": [
       "dict_keys(['predictions', 'visualization'])"
      ]
     },
     "execution_count": 11,
     "metadata": {},
     "output_type": "execute_result"
    }
   ],
   "source": [
    "res.keys()"
   ]
  },
  {
   "cell_type": "code",
   "execution_count": 12,
   "id": "7055852a-b033-43ca-a49b-38ff0ab90425",
   "metadata": {
    "collapsed": true,
    "jupyter": {
     "outputs_hidden": true
    },
    "tags": []
   },
   "outputs": [
    {
     "data": {
      "text/plain": [
       "[array([[[249, 247, 249],\n",
       "         [247, 246, 247],\n",
       "         [245, 244, 245],\n",
       "         ...,\n",
       "         [240, 167, 210],\n",
       "         [241, 169, 212],\n",
       "         [242, 172, 214]],\n",
       " \n",
       "        [[248, 247, 248],\n",
       "         [247, 246, 247],\n",
       "         [245, 245, 246],\n",
       "         ...,\n",
       "         [239, 168, 210],\n",
       "         [241, 171, 213],\n",
       "         [243, 174, 215]],\n",
       " \n",
       "        [[245, 243, 245],\n",
       "         [245, 244, 245],\n",
       "         [245, 244, 245],\n",
       "         ...,\n",
       "         [240, 169, 211],\n",
       "         [242, 173, 214],\n",
       "         [243, 176, 217]],\n",
       " \n",
       "        ...,\n",
       " \n",
       "        [[255, 219, 248],\n",
       "         [255, 219, 250],\n",
       "         [255, 212, 245],\n",
       "         ...,\n",
       "         [ 43, 107, 135],\n",
       "         [ 93,  80,  83],\n",
       "         [149, 112, 112]],\n",
       " \n",
       "        [[254, 216, 245],\n",
       "         [255, 220, 249],\n",
       "         [255, 218, 248],\n",
       "         ...,\n",
       "         [ 43, 107, 135],\n",
       "         [ 94,  80,  83],\n",
       "         [150, 111, 112]],\n",
       " \n",
       "        [[254, 214, 243],\n",
       "         [255, 221, 248],\n",
       "         [255, 222, 249],\n",
       "         ...,\n",
       "         [ 49, 102, 127],\n",
       "         [105,  70,  65],\n",
       "         [114,  70,  64]]], dtype=uint8)]"
      ]
     },
     "execution_count": 12,
     "metadata": {},
     "output_type": "execute_result"
    }
   ],
   "source": [
    "res['visualization']"
   ]
  },
  {
   "cell_type": "code",
   "execution_count": null,
   "id": "5eb3601f-5e27-4d1f-9eaa-4cfad0866a4d",
   "metadata": {},
   "outputs": [],
   "source": []
  },
  {
   "cell_type": "code",
   "execution_count": null,
   "id": "c8da2a30-8b1a-43a8-b57c-936e9f848db4",
   "metadata": {},
   "outputs": [],
   "source": []
  },
  {
   "cell_type": "code",
   "execution_count": null,
   "id": "710e6c90-f970-4250-97dc-0334c03ac7a6",
   "metadata": {},
   "outputs": [],
   "source": []
  },
  {
   "cell_type": "code",
   "execution_count": null,
   "id": "72b1b6e7-c512-4dbe-ae35-6c9581631339",
   "metadata": {},
   "outputs": [],
   "source": []
  },
  {
   "cell_type": "code",
   "execution_count": null,
   "id": "7ba56739-3645-46bb-9faa-9fa97fd1e86e",
   "metadata": {},
   "outputs": [],
   "source": []
  },
  {
   "cell_type": "code",
   "execution_count": null,
   "id": "2224b182-b647-46ae-af8f-9988a4290bbd",
   "metadata": {},
   "outputs": [],
   "source": []
>>>>>>> b7bbb54e5b61db3f4aad483aae3478e55f0c1c5f
  }
 ],
 "metadata": {
  "kernelspec": {
   "display_name": "Python 3 (ipykernel)",
   "language": "python",
   "name": "python3"
  },
  "language_info": {
   "codemirror_mode": {
    "name": "ipython",
    "version": 3
   },
   "file_extension": ".py",
   "mimetype": "text/x-python",
   "name": "python",
   "nbconvert_exporter": "python",
   "pygments_lexer": "ipython3",
<<<<<<< HEAD
   "version": "3.11.5"
=======
   "version": "3.8.10"
>>>>>>> b7bbb54e5b61db3f4aad483aae3478e55f0c1c5f
  }
 },
 "nbformat": 4,
 "nbformat_minor": 5
}
