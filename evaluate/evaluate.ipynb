{
 "cells": [
  {
   "cell_type": "code",
   "execution_count": 3,
   "id": "d4f46f9e-ecf3-49e7-ab11-876b2bc2af5f",
   "metadata": {
    "tags": []
   },
   "outputs": [],
   "source": [
    "from pycocotools.coco import COCO\n",
    "from pycocotools import cocoeval"
   ]
  },
  {
   "cell_type": "code",
   "execution_count": 5,
   "id": "cc74cd21-df7a-44af-a38a-75096c240485",
   "metadata": {
    "tags": []
   },
   "outputs": [
    {
     "name": "stdout",
     "output_type": "stream",
     "text": [
      "loading annotations into memory...\n",
      "Done (t=0.06s)\n",
      "creating index...\n",
      "index created!\n"
     ]
    }
   ],
   "source": [
    "cocoDt = COCO(\"/home/pannuke_app/datasets/processed/CoNSeP/coco_annotations/test_annotations.json\")"
   ]
  },
  {
   "cell_type": "code",
   "execution_count": 6,
   "id": "a8ba541f-42aa-407d-8ee3-46437e801fd0",
   "metadata": {
    "tags": []
   },
   "outputs": [
    {
     "name": "stdout",
     "output_type": "stream",
     "text": [
      "loading annotations into memory...\n",
      "Done (t=0.05s)\n",
      "creating index...\n",
      "index created!\n"
     ]
    }
   ],
   "source": [
    "cocoGt = COCO(\"/home/pannuke_app/datasets/processed/CoNSeP/coco_annotations/test_annotations.json\")"
   ]
  },
  {
   "cell_type": "code",
   "execution_count": 11,
   "id": "07e03a23-a3e6-424e-b446-3c5e95a1b766",
   "metadata": {
    "tags": []
   },
   "outputs": [
    {
     "name": "stdout",
     "output_type": "stream",
     "text": [
      "Running per image evaluation...\n",
      "Evaluate annotation type *segm*\n"
     ]
    },
    {
     "ename": "KeyError",
     "evalue": "'score'",
     "output_type": "error",
     "traceback": [
      "\u001b[0;31m---------------------------------------------------------------------------\u001b[0m",
      "\u001b[0;31mKeyError\u001b[0m                                  Traceback (most recent call last)",
      "Cell \u001b[0;32mIn[11], line 3\u001b[0m\n\u001b[1;32m      1\u001b[0m E \u001b[38;5;241m=\u001b[39m cocoeval\u001b[38;5;241m.\u001b[39mCOCOeval(cocoGt,cocoDt); \u001b[38;5;66;03m# initialize CocoEval object\u001b[39;00m\n\u001b[1;32m      2\u001b[0m \u001b[38;5;66;03m# E.params.recThrs = ...;      # set parameters as desired\u001b[39;00m\n\u001b[0;32m----> 3\u001b[0m E\u001b[38;5;241m.\u001b[39mevaluate();                \u001b[38;5;66;03m# run per image evaluation\u001b[39;00m\n\u001b[1;32m      4\u001b[0m E\u001b[38;5;241m.\u001b[39maccumulate();              \u001b[38;5;66;03m# accumulate per image results\u001b[39;00m\n\u001b[1;32m      5\u001b[0m E\u001b[38;5;241m.\u001b[39msummarize()\n",
      "File \u001b[0;32m~/anaconda3/lib/python3.11/site-packages/pycocotools/cocoeval.py:148\u001b[0m, in \u001b[0;36mCOCOeval.evaluate\u001b[0;34m(self)\u001b[0m\n\u001b[1;32m    146\u001b[0m \u001b[38;5;28;01melif\u001b[39;00m p\u001b[38;5;241m.\u001b[39miouType \u001b[38;5;241m==\u001b[39m \u001b[38;5;124m'\u001b[39m\u001b[38;5;124mkeypoints\u001b[39m\u001b[38;5;124m'\u001b[39m:\n\u001b[1;32m    147\u001b[0m     computeIoU \u001b[38;5;241m=\u001b[39m \u001b[38;5;28mself\u001b[39m\u001b[38;5;241m.\u001b[39mcomputeOks\n\u001b[0;32m--> 148\u001b[0m \u001b[38;5;28mself\u001b[39m\u001b[38;5;241m.\u001b[39mious \u001b[38;5;241m=\u001b[39m {(imgId, catId): computeIoU(imgId, catId) \\\n\u001b[1;32m    149\u001b[0m                 \u001b[38;5;28;01mfor\u001b[39;00m imgId \u001b[38;5;129;01min\u001b[39;00m p\u001b[38;5;241m.\u001b[39mimgIds\n\u001b[1;32m    150\u001b[0m                 \u001b[38;5;28;01mfor\u001b[39;00m catId \u001b[38;5;129;01min\u001b[39;00m catIds}\n\u001b[1;32m    152\u001b[0m evaluateImg \u001b[38;5;241m=\u001b[39m \u001b[38;5;28mself\u001b[39m\u001b[38;5;241m.\u001b[39mevaluateImg\n\u001b[1;32m    153\u001b[0m maxDet \u001b[38;5;241m=\u001b[39m p\u001b[38;5;241m.\u001b[39mmaxDets[\u001b[38;5;241m-\u001b[39m\u001b[38;5;241m1\u001b[39m]\n",
      "File \u001b[0;32m~/anaconda3/lib/python3.11/site-packages/pycocotools/cocoeval.py:148\u001b[0m, in \u001b[0;36m<dictcomp>\u001b[0;34m(.0)\u001b[0m\n\u001b[1;32m    146\u001b[0m \u001b[38;5;28;01melif\u001b[39;00m p\u001b[38;5;241m.\u001b[39miouType \u001b[38;5;241m==\u001b[39m \u001b[38;5;124m'\u001b[39m\u001b[38;5;124mkeypoints\u001b[39m\u001b[38;5;124m'\u001b[39m:\n\u001b[1;32m    147\u001b[0m     computeIoU \u001b[38;5;241m=\u001b[39m \u001b[38;5;28mself\u001b[39m\u001b[38;5;241m.\u001b[39mcomputeOks\n\u001b[0;32m--> 148\u001b[0m \u001b[38;5;28mself\u001b[39m\u001b[38;5;241m.\u001b[39mious \u001b[38;5;241m=\u001b[39m {(imgId, catId): computeIoU(imgId, catId) \\\n\u001b[1;32m    149\u001b[0m                 \u001b[38;5;28;01mfor\u001b[39;00m imgId \u001b[38;5;129;01min\u001b[39;00m p\u001b[38;5;241m.\u001b[39mimgIds\n\u001b[1;32m    150\u001b[0m                 \u001b[38;5;28;01mfor\u001b[39;00m catId \u001b[38;5;129;01min\u001b[39;00m catIds}\n\u001b[1;32m    152\u001b[0m evaluateImg \u001b[38;5;241m=\u001b[39m \u001b[38;5;28mself\u001b[39m\u001b[38;5;241m.\u001b[39mevaluateImg\n\u001b[1;32m    153\u001b[0m maxDet \u001b[38;5;241m=\u001b[39m p\u001b[38;5;241m.\u001b[39mmaxDets[\u001b[38;5;241m-\u001b[39m\u001b[38;5;241m1\u001b[39m]\n",
      "File \u001b[0;32m~/anaconda3/lib/python3.11/site-packages/pycocotools/cocoeval.py:173\u001b[0m, in \u001b[0;36mCOCOeval.computeIoU\u001b[0;34m(self, imgId, catId)\u001b[0m\n\u001b[1;32m    171\u001b[0m \u001b[38;5;28;01mif\u001b[39;00m \u001b[38;5;28mlen\u001b[39m(gt) \u001b[38;5;241m==\u001b[39m \u001b[38;5;241m0\u001b[39m \u001b[38;5;129;01mand\u001b[39;00m \u001b[38;5;28mlen\u001b[39m(dt) \u001b[38;5;241m==\u001b[39m\u001b[38;5;241m0\u001b[39m:\n\u001b[1;32m    172\u001b[0m     \u001b[38;5;28;01mreturn\u001b[39;00m []\n\u001b[0;32m--> 173\u001b[0m inds \u001b[38;5;241m=\u001b[39m np\u001b[38;5;241m.\u001b[39margsort([\u001b[38;5;241m-\u001b[39md[\u001b[38;5;124m'\u001b[39m\u001b[38;5;124mscore\u001b[39m\u001b[38;5;124m'\u001b[39m] \u001b[38;5;28;01mfor\u001b[39;00m d \u001b[38;5;129;01min\u001b[39;00m dt], kind\u001b[38;5;241m=\u001b[39m\u001b[38;5;124m'\u001b[39m\u001b[38;5;124mmergesort\u001b[39m\u001b[38;5;124m'\u001b[39m)\n\u001b[1;32m    174\u001b[0m dt \u001b[38;5;241m=\u001b[39m [dt[i] \u001b[38;5;28;01mfor\u001b[39;00m i \u001b[38;5;129;01min\u001b[39;00m inds]\n\u001b[1;32m    175\u001b[0m \u001b[38;5;28;01mif\u001b[39;00m \u001b[38;5;28mlen\u001b[39m(dt) \u001b[38;5;241m>\u001b[39m p\u001b[38;5;241m.\u001b[39mmaxDets[\u001b[38;5;241m-\u001b[39m\u001b[38;5;241m1\u001b[39m]:\n",
      "File \u001b[0;32m~/anaconda3/lib/python3.11/site-packages/pycocotools/cocoeval.py:173\u001b[0m, in \u001b[0;36m<listcomp>\u001b[0;34m(.0)\u001b[0m\n\u001b[1;32m    171\u001b[0m \u001b[38;5;28;01mif\u001b[39;00m \u001b[38;5;28mlen\u001b[39m(gt) \u001b[38;5;241m==\u001b[39m \u001b[38;5;241m0\u001b[39m \u001b[38;5;129;01mand\u001b[39;00m \u001b[38;5;28mlen\u001b[39m(dt) \u001b[38;5;241m==\u001b[39m\u001b[38;5;241m0\u001b[39m:\n\u001b[1;32m    172\u001b[0m     \u001b[38;5;28;01mreturn\u001b[39;00m []\n\u001b[0;32m--> 173\u001b[0m inds \u001b[38;5;241m=\u001b[39m np\u001b[38;5;241m.\u001b[39margsort([\u001b[38;5;241m-\u001b[39md[\u001b[38;5;124m'\u001b[39m\u001b[38;5;124mscore\u001b[39m\u001b[38;5;124m'\u001b[39m] \u001b[38;5;28;01mfor\u001b[39;00m d \u001b[38;5;129;01min\u001b[39;00m dt], kind\u001b[38;5;241m=\u001b[39m\u001b[38;5;124m'\u001b[39m\u001b[38;5;124mmergesort\u001b[39m\u001b[38;5;124m'\u001b[39m)\n\u001b[1;32m    174\u001b[0m dt \u001b[38;5;241m=\u001b[39m [dt[i] \u001b[38;5;28;01mfor\u001b[39;00m i \u001b[38;5;129;01min\u001b[39;00m inds]\n\u001b[1;32m    175\u001b[0m \u001b[38;5;28;01mif\u001b[39;00m \u001b[38;5;28mlen\u001b[39m(dt) \u001b[38;5;241m>\u001b[39m p\u001b[38;5;241m.\u001b[39mmaxDets[\u001b[38;5;241m-\u001b[39m\u001b[38;5;241m1\u001b[39m]:\n",
      "\u001b[0;31mKeyError\u001b[0m: 'score'"
     ]
    }
   ],
   "source": [
    "E = cocoeval.COCOeval(cocoGt,cocoDt); # initialize CocoEval object\n",
    "# E.params.recThrs = ...;      # set parameters as desired\n",
    "E.evaluate();                # run per image evaluation\n",
    "E.accumulate();              # accumulate per image results\n",
    "E.summarize();               # display summary metrics of results"
   ]
  },
  {
   "cell_type": "code",
   "execution_count": null,
   "id": "bde7e11a-4845-4db4-b8d7-383c52c9d31d",
   "metadata": {},
   "outputs": [],
   "source": []
  },
  {
   "cell_type": "code",
   "execution_count": null,
   "id": "1c08aa99-0de0-4adf-b39d-b7e250bf0c76",
   "metadata": {},
   "outputs": [],
   "source": []
  },
  {
   "cell_type": "code",
   "execution_count": null,
   "id": "8859fc8e-7c13-4c56-8cb3-f6480c9b5912",
   "metadata": {},
   "outputs": [],
   "source": []
  },
  {
   "cell_type": "code",
   "execution_count": null,
   "id": "e659d6a5-8cec-4f51-a813-e9e51f6b891d",
   "metadata": {},
   "outputs": [],
   "source": []
  },
  {
   "cell_type": "code",
   "execution_count": null,
   "id": "974f9f48-9654-4c6c-bb87-7a2e33c136d6",
   "metadata": {},
   "outputs": [],
   "source": []
  }
 ],
 "metadata": {
  "kernelspec": {
   "display_name": "Python 3 (ipykernel)",
   "language": "python",
   "name": "python3"
  },
  "language_info": {
   "codemirror_mode": {
    "name": "ipython",
    "version": 3
   },
   "file_extension": ".py",
   "mimetype": "text/x-python",
   "name": "python",
   "nbconvert_exporter": "python",
   "pygments_lexer": "ipython3",
   "version": "3.11.5"
  }
 },
 "nbformat": 4,
 "nbformat_minor": 5
}
