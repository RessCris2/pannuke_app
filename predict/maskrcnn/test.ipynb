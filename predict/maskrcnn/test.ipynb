{
 "cells": [
  {
   "cell_type": "code",
   "execution_count": 7,
   "id": "e1e602d7-17d6-40a5-a884-d2ef862d8518",
   "metadata": {},
   "outputs": [
    {
     "name": "stdout",
     "output_type": "stream",
     "text": [
      "Loads checkpoint by local backend from path: /root/autodl-tmp/pannuke_app/predict/maskrcnn/epoch_1.pth\n"
     ]
    }
   ],
   "source": [
    "from mmdet.apis import DetInferencer\n",
    "\n",
    "# Setup a checkpoint file to load\n",
    "checkpoint = '/root/autodl-tmp/pannuke_app/predict/maskrcnn/epoch_1.pth'\n",
    "config_path = \"/root/autodl-tmp/pannuke_app/predict/maskrcnn/consep_config.py\"\n",
    "# Initialize the DetInferencer\n",
    "inferencer = DetInferencer(model=config_path, weights=checkpoint, device='cpu')\n",
    "\n",
    "result = inferencer(\"/root/processed/CoNSeP/test/imgs\",\n",
    "                    no_save_pred = False,\n",
    "                    out_dir='./',\n",
    "                    return_datasample=True,\n",
    "          )"
   ]
  },
  {
   "cell_type": "code",
   "execution_count": 2,
   "id": "ce8051c7-fcb0-41cc-bdfb-a95759121421",
   "metadata": {},
   "outputs": [],
   "source": [
    "from mmdet.evaluation.metrics.coco_metric import CocoMetric"
   ]
  },
  {
   "cell_type": "code",
   "execution_count": 4,
   "id": "53833795-af2f-40dd-a1a6-4764e6cf64b7",
   "metadata": {},
   "outputs": [
    {
     "name": "stdout",
     "output_type": "stream",
     "text": [
      "loading annotations into memory...\n",
      "Done (t=0.06s)\n",
      "creating index...\n",
      "index created!\n"
     ]
    }
   ],
   "source": [
    "coco = CocoMetric(\n",
    "    ann_file=\"/root/processed/CoNSeP/test/test_annotations.json\",\n",
    "    metric=[\"bbox\", \"segm\"],\n",
    "    format_only=False,\n",
    "#     backend_args=backend_args,\n",
    "    outfile_prefix=\"test\",\n",
    ")"
   ]
  },
  {
   "cell_type": "code",
   "execution_count": 8,
   "id": "12cf1a12-37c6-4b57-8697-b1ed903f57b7",
   "metadata": {},
   "outputs": [
    {
     "data": {
      "application/vnd.jupyter.widget-view+json": {
       "model_id": "b7741132bffd492594f23600b64eb704",
       "version_major": 2,
       "version_minor": 0
      },
      "text/plain": [
       "Output()"
      ]
     },
     "metadata": {},
     "output_type": "display_data"
    },
    {
     "data": {
      "text/html": [
       "<pre style=\"white-space:pre;overflow-x:auto;line-height:normal;font-family:Menlo,'DejaVu Sans Mono',consolas,'Courier New',monospace\">/root/mmlab/mmdetection-main/mmdet/apis/det_inferencer.py:501: UserWarning: Currently does not support saving \n",
       "datasample when return_datasample is set to True. Prediction results are not saved!\n",
       "  warnings.warn('Currently does not support saving datasample '\n",
       "</pre>\n"
      ],
      "text/plain": [
       "/root/mmlab/mmdetection-main/mmdet/apis/det_inferencer.py:501: UserWarning: Currently does not support saving \n",
       "datasample when return_datasample is set to True. Prediction results are not saved!\n",
       "  warnings.warn('Currently does not support saving datasample '\n"
      ]
     },
     "metadata": {},
     "output_type": "display_data"
    },
    {
     "data": {
      "text/html": [
       "<pre style=\"white-space:pre;overflow-x:auto;line-height:normal;font-family:Menlo,'DejaVu Sans Mono',consolas,'Courier New',monospace\">/root/miniconda3/lib/python3.8/site-packages/mmengine/visualization/visualizer.py:757: UserWarning: Warning: The \n",
       "bbox is out of bounds, the drawn bbox may not be in the image\n",
       "  warnings.warn(\n",
       "</pre>\n"
      ],
      "text/plain": [
       "/root/miniconda3/lib/python3.8/site-packages/mmengine/visualization/visualizer.py:757: UserWarning: Warning: The \n",
       "bbox is out of bounds, the drawn bbox may not be in the image\n",
       "  warnings.warn(\n"
      ]
     },
     "metadata": {},
     "output_type": "display_data"
    },
    {
     "data": {
      "text/html": [
       "<pre style=\"white-space:pre;overflow-x:auto;line-height:normal;font-family:Menlo,'DejaVu Sans Mono',consolas,'Courier New',monospace\">/root/miniconda3/lib/python3.8/site-packages/mmengine/visualization/visualizer.py:828: UserWarning: Warning: The \n",
       "polygon is out of bounds, the drawn polygon may not be in the image\n",
       "  warnings.warn(\n",
       "</pre>\n"
      ],
      "text/plain": [
       "/root/miniconda3/lib/python3.8/site-packages/mmengine/visualization/visualizer.py:828: UserWarning: Warning: The \n",
       "polygon is out of bounds, the drawn polygon may not be in the image\n",
       "  warnings.warn(\n"
      ]
     },
     "metadata": {},
     "output_type": "display_data"
    },
    {
     "data": {
      "text/html": [
       "<pre style=\"white-space:pre;overflow-x:auto;line-height:normal;font-family:Menlo,'DejaVu Sans Mono',consolas,'Courier New',monospace\"></pre>\n"
      ],
      "text/plain": []
     },
     "metadata": {},
     "output_type": "display_data"
    },
    {
     "data": {
      "text/html": [
       "<pre style=\"white-space:pre;overflow-x:auto;line-height:normal;font-family:Menlo,'DejaVu Sans Mono',consolas,'Courier New',monospace\">\n",
       "</pre>\n"
      ],
      "text/plain": [
       "\n"
      ]
     },
     "metadata": {},
     "output_type": "display_data"
    }
   ],
   "source": [
    "result = inferencer(\"/root/processed/CoNSeP/test/imgs\",\n",
    "                    no_save_pred = False,\n",
    "                    out_dir='./',\n",
    "                    return_datasample=True,\n",
    "          )"
   ]
  },
  {
   "cell_type": "code",
   "execution_count": 12,
   "id": "e56f858a-17e8-4ed2-84c0-354a7d4f7449",
   "metadata": {
    "tags": []
   },
   "outputs": [],
   "source": [
    "data_sample= result['predictions']"
   ]
  },
  {
   "cell_type": "code",
   "execution_count": 13,
   "id": "83255934-345c-4286-a081-b5951164c11e",
   "metadata": {},
   "outputs": [
    {
     "ename": "AttributeError",
     "evalue": "'list' object has no attribute 'keys'",
     "output_type": "error",
     "traceback": [
      "\u001b[0;31m---------------------------------------------------------------------------\u001b[0m",
      "\u001b[0;31mAttributeError\u001b[0m                            Traceback (most recent call last)",
      "\u001b[0;32m/tmp/ipykernel_1452/2946309615.py\u001b[0m in \u001b[0;36m<module>\u001b[0;34m\u001b[0m\n\u001b[0;32m----> 1\u001b[0;31m \u001b[0mdata_sample\u001b[0m\u001b[0;34m.\u001b[0m\u001b[0mkeys\u001b[0m\u001b[0;34m(\u001b[0m\u001b[0;34m)\u001b[0m\u001b[0;34m\u001b[0m\u001b[0;34m\u001b[0m\u001b[0m\n\u001b[0m",
      "\u001b[0;31mAttributeError\u001b[0m: 'list' object has no attribute 'keys'"
     ]
    }
   ],
   "source": [
    "data_sample.keys()"
   ]
  },
  {
   "cell_type": "code",
   "execution_count": 15,
   "id": "b322eb26-65ce-48d8-9032-cce75dfeaaf3",
   "metadata": {},
   "outputs": [
    {
     "data": {
      "text/plain": [
       "['ignored_instances', 'pred_instances', 'gt_instances']"
      ]
     },
     "execution_count": 15,
     "metadata": {},
     "output_type": "execute_result"
    }
   ],
   "source": [
    "data_sample[0].keys()"
   ]
  },
  {
   "cell_type": "code",
   "execution_count": 17,
   "id": "26c04455-d652-4985-8ebb-352872286199",
   "metadata": {},
   "outputs": [
    {
     "data": {
      "text/plain": [
       "{'pad_shape': (800, 800),\n",
       " 'batch_input_shape': (800, 800),\n",
       " 'scale_factor': (0.8, 0.8),\n",
       " 'img_shape': (800, 800),\n",
       " 'ori_shape': (1000, 1000),\n",
       " 'img_path': '/root/processed/CoNSeP/test/imgs/test_1.png'}"
      ]
     },
     "execution_count": 17,
     "metadata": {},
     "output_type": "execute_result"
    }
   ],
   "source": [
    "data_sample[0].metainfo"
   ]
  },
  {
   "cell_type": "code",
   "execution_count": null,
   "id": "6505934b-8394-447d-a6a9-536506b1c2bc",
   "metadata": {},
   "outputs": [],
   "source": []
  },
  {
   "cell_type": "code",
   "execution_count": null,
   "id": "af907de1-684c-4a0f-9ddb-6113a5a8f01a",
   "metadata": {},
   "outputs": [],
   "source": []
  },
  {
   "cell_type": "code",
   "execution_count": null,
   "id": "b36fbb46-1abe-49e3-b92b-cdecc59f184b",
   "metadata": {},
   "outputs": [],
   "source": []
  }
 ],
 "metadata": {
  "kernelspec": {
   "display_name": "Python 3 (ipykernel)",
   "language": "python",
   "name": "python3"
  },
  "language_info": {
   "codemirror_mode": {
    "name": "ipython",
    "version": 3
   },
   "file_extension": ".py",
   "mimetype": "text/x-python",
   "name": "python",
   "nbconvert_exporter": "python",
   "pygments_lexer": "ipython3",
   "version": "3.8.10"
  }
 },
 "nbformat": 4,
 "nbformat_minor": 5
}
